{
 "cells": [
  {
   "cell_type": "markdown",
   "metadata": {},
   "source": [
    "# Πλάγια βολή με αντίσταση αέρα\n",
    "\n",
    "Ζητάμε να βρούμε την κίνηση ενός σώματος που βάλλεται με γωνία $\\theta$ ώς προς τον ορίζοντα, όταν δέχεται εκτός από το βάρος του και τη δύναμη της αντίστασης του αέρα $\\vec F' = -b\\vec v$."
   ]
  },
  {
   "cell_type": "markdown",
   "metadata": {},
   "source": [
    "Επομένως στον $x$ άξονα θα ισχύει $$m a_x = -bv_x$$ ενώ στον $y$ άξονα $$ma_y = -bv_y - mg$$"
   ]
  },
  {
   "cell_type": "markdown",
   "metadata": {},
   "source": [
    "Αυτές είναι δύο διαφορικές εξισώσεις που γράφονται ως:\n",
    "$$\\dfrac{d^2x}{dt^2} = -\\dfrac{b}{m}\\dfrac{dx}{dt}$$\n",
    "$$\\dfrac{d^2y}{dt^2} = -\\dfrac{b}{m}\\dfrac{dy}{dt} - g$$"
   ]
  },
  {
   "cell_type": "markdown",
   "metadata": {},
   "source": [
    "Για την λύση τους θα χρησιμοποιήσουμε την συνάρτηση odeint από το πακέτο scipy της python, και θα λύσουμε έτσι αριθμητικά τις διαφορικές μας."
   ]
  },
  {
   "cell_type": "code",
   "execution_count": 1,
   "metadata": {},
   "outputs": [],
   "source": [
    "from sympy.interactive import printing\n",
    "printing.init_printing(use_latex=True)\n",
    "import numpy as np\n",
    "from scipy.integrate import odeint\n",
    "import matplotlib.pyplot as plt\n",
    "import math\n",
    "from IPython.display import Latex\n",
    "%matplotlib inline"
   ]
  },
  {
   "cell_type": "code",
   "execution_count": 2,
   "metadata": {},
   "outputs": [],
   "source": [
    "#constants and initial conditions\n",
    "m = 2               # kg\n",
    "g = 9.81            # m/s^2\n",
    "v0 = 30             # m/s\n",
    "theta = np.pi/3     # rad\n",
    "\n",
    "# initial conditions\n",
    "vy0 = v0*np.sin(theta)\n",
    "vx0 = v0*np.cos(theta)\n",
    "y0 = 0\n",
    "x0 = 0"
   ]
  },
  {
   "cell_type": "code",
   "execution_count": 3,
   "metadata": {},
   "outputs": [],
   "source": [
    "# function that returns dx/dt and d^2x/dt^2\n",
    "def dx(x, t, b) :\n",
    "    # x[0] = x\n",
    "    # x[1] = dx/dt = v_x\n",
    "    return [x[1], (-b/m)*x[1]]\n",
    "\n",
    "# function that returns dy/dt and d^2y/dt^2\n",
    "def dy(y, t, b) :\n",
    "    # y[0] = y \n",
    "    # y[1] = dy/dt =v_y\n",
    "    return [y[1], (-b/m)*y[1] - g]"
   ]
  },
  {
   "cell_type": "markdown",
   "metadata": {},
   "source": [
    "Οι αρχικές συνθήκες είναι $x=0$, αρχική ταχύτητα $v_0=60$m/s\n",
    "\n",
    "Οι συνιστώσες της $v_{x0}=v_x\\cos\\theta$ ενώ για τον $y$ άξονα $y=0$  και $v_{y0}=v_y\\sin\\theta$ "
   ]
  },
  {
   "cell_type": "code",
   "execution_count": 4,
   "metadata": {},
   "outputs": [
    {
     "name": "stdout",
     "output_type": "stream",
     "text": [
      "Εδώ :\n"
     ]
    },
    {
     "data": {
      "text/latex": [
       "$y = $ 0, $v_{y0} = $ 26.0"
      ],
      "text/plain": [
       "<IPython.core.display.Latex object>"
      ]
     },
     "metadata": {},
     "output_type": "display_data"
    },
    {
     "data": {
      "text/latex": [
       "$x = $ 0, $v_{x0} = $ 15.0"
      ],
      "text/plain": [
       "<IPython.core.display.Latex object>"
      ]
     },
     "metadata": {},
     "output_type": "display_data"
    }
   ],
   "source": [
    "# time points\n",
    "dy0 = [y0, vy0]\n",
    "dx0 = [x0, vx0]\n",
    "print('Εδώ :')\n",
    "display(Latex('$y = $ {0}, $v_{{y0}} = $ {1:.1f}'.format(dy0[0], dy0[1])))\n",
    "display(Latex('$x = $ {0}, $v_{{x0}} = $ {1:.1f}'.format(dx0[0], dx0[1])))\n"
   ]
  },
  {
   "cell_type": "code",
   "execution_count": 5,
   "metadata": {},
   "outputs": [
    {
     "name": "stdout",
     "output_type": "stream",
     "text": [
      "[0.   0.12 0.24 0.36 0.48 0.6  0.72 0.84 0.96 1.08 1.2  1.32 1.44 1.56\n",
      " 1.68 1.8  1.92 2.04 2.16 2.28 2.4  2.52 2.64 2.76 2.88 3.   3.12 3.24\n",
      " 3.36 3.48 3.6  3.72 3.84 3.96 4.08 4.2  4.32 4.44 4.56 4.68 4.8  4.92\n",
      " 5.04 5.16 5.28 5.4  5.52 5.64 5.76 5.88 6.  ]\n"
     ]
    }
   ],
   "source": [
    "# solve ODEs for varius constants b\n",
    "t = np.linspace(0,6,51)\n",
    "print(t)"
   ]
  },
  {
   "cell_type": "code",
   "execution_count": 6,
   "metadata": {},
   "outputs": [],
   "source": [
    "#perfect trajectory\n",
    "b = 0.0\n",
    "ys1 = odeint(dy, dy0, t, args=(b,))\n",
    "xs1 = odeint(dx, dx0, t, args=(b,))\n",
    "x1 = xs1[:,0]\n",
    "vx1 = xs1[:,1]\n",
    "y1 = ys1[:,0]\n",
    "vy1 = ys1[:,1]\n",
    "# varius b constants\n",
    "b2 = 0.1\n",
    "ys2 = odeint(dy, dy0, t, args=(b2,))\n",
    "xs2 = odeint(dx, dx0, t, args=(b2,))\n",
    "x2 = xs2[:,0]\n",
    "vx2 = xs2[:,1]\n",
    "y2 = ys2[:,0]\n",
    "vy1 = ys1[:,1]\n",
    "b3 = 0.3\n",
    "ys3 = odeint(dy, dy0, t, args=(b3,))\n",
    "xs3 = odeint(dx, dx0, t, args=(b3,))\n",
    "x3 = xs3[:,0]\n",
    "vx3 = xs3[:,1]\n",
    "y3 = ys3[:,0]\n",
    "vy3 = ys3[:,1]\n",
    "b4 = 0.8\n",
    "ys4 = odeint(dy, dy0, t, args=(b4,))\n",
    "xs4 = odeint(dx, dx0, t, args=(b4,))\n",
    "x4 = xs4[:,0]\n",
    "vx4 = xs4[:,1]\n",
    "y4 = ys4[:,0]\n",
    "vy4 = ys4[:,1]"
   ]
  },
  {
   "cell_type": "code",
   "execution_count": 7,
   "metadata": {},
   "outputs": [
    {
     "data": {
      "text/latex": [
       "Αρχική ταχύτητα $v_0 =$ 30 m/s. Angle of Projection $\\theta =$ 60.0"
      ],
      "text/plain": [
       "<IPython.core.display.Latex object>"
      ]
     },
     "metadata": {},
     "output_type": "display_data"
    },
    {
     "data": {
      "text/latex": [
       "$v_x =$ 15.0 m/s"
      ],
      "text/plain": [
       "<IPython.core.display.Latex object>"
      ]
     },
     "metadata": {},
     "output_type": "display_data"
    },
    {
     "data": {
      "text/latex": [
       "$v_y =$ 26.0 m/s"
      ],
      "text/plain": [
       "<IPython.core.display.Latex object>"
      ]
     },
     "metadata": {},
     "output_type": "display_data"
    },
    {
     "data": {
      "text/latex": [
       "$b =$ 0.1"
      ],
      "text/plain": [
       "<IPython.core.display.Latex object>"
      ]
     },
     "execution_count": 7,
     "metadata": {},
     "output_type": "execute_result"
    }
   ],
   "source": [
    "display(Latex('Αρχική ταχύτητα $v_0 =$ {0} m/s. Angle of Projection $\\\\theta =$ {1:.1f}'.format(v0, math.degrees(theta))))\n",
    "display(Latex('$v_x =$ {:.1f} m/s'.format(vx0)))\n",
    "display(Latex('$v_y =$ {:.1f} m/s'.format(vy0)))\n",
    "Latex('$b =$ {0}'.format(b2))"
   ]
  },
  {
   "cell_type": "code",
   "execution_count": 8,
   "metadata": {},
   "outputs": [
    {
     "data": {
      "image/png": "[encoded data removed]",
      "text/plain": [
       "<Figure size 720x720 with 4 Axes>"
      ]
     },
     "metadata": {
      "needs_background": "light"
     },
     "output_type": "display_data"
    }
   ],
   "source": [
    "# plot results\n",
    "plt.rcParams[\"figure.figsize\"] = (10,10)\n",
    "#plt.ylim(0,40)\n",
    "#plt.xlim(0,8)\n",
    "\n",
    "# Creates four subplots and unpacks the output array immediately\n",
    "f, ax = plt.subplots(2, 2) #, sharey=True\n",
    "#f.title('Πλάγια βολή με αντίσταση αέρα $F=-bv$')\n",
    "#ax[0,0] = plt.axes(xlim=(0, 8), ylim=(0, 40))\n",
    "ax[0,0].plot(t, x1, 'r',linewidth=2,label='$x(t)$')\n",
    "ax[0,0].plot(t, vx1, 'g--', linewidth=2,label='$v_x(t)$')\n",
    "ax[0,0].set(xlabel=\"$t$ (s)\", ylabel=\"$x$ (m)\")\n",
    "ax[0,0].set(xlabel=\"$t$ (s)\", ylabel=\"$y$ (m)\")\n",
    "ax[0,0].set_title('x')\n",
    "ax[0,0].legend()\n",
    "#ax[0,1] = plt.axes(xlim=(0, 8), ylim=(0, 40))\n",
    "ax[0,1].plot(t, y1,'b',linewidth=2,label='$y(t)$')\n",
    "ax[0,1].plot(t, vy1, 'g--', linewidth=2,label='$v_y(t)$')\n",
    "ax[0,1].set(xlabel=\"$t$ (s)\", ylabel=\"$x$ (m)\")\n",
    "ax[0,1].set(xlabel=\"$t$ (s)\", ylabel=\"$y$ (m)\")\n",
    "ax[0,1].set_title('y')\n",
    "ax[0,1].legend()\n",
    "ax[1,0].plot(t, x4,'r',linewidth=2,label='$x(t)$')\n",
    "ax[1,0].plot(t, vx4,'g--', linewidth=2,label='$v_x(t)$')\n",
    "ax[1,0].set(xlabel=\"$t$ (s)\", ylabel=\"$x$ (m)\")\n",
    "ax[1,0].set(xlabel=\"$t$ (s)\", ylabel=\"$y$ (m)\")\n",
    "#ax[1,0] = plt.axes(xlim=(0, 8), ylim=(0, 40))\n",
    "ax[1,0].set_title('x, b=0.8')\n",
    "ax[1,0].legend()\n",
    "ax[1,1].plot(t, y4,'b',linewidth=2,label='$y(t)$')\n",
    "ax[1,1].plot(t, vy4, 'g--', linewidth=2,label='$v_y(t)$')\n",
    "ax[1,1].set(xlabel=\"$t$ (s)\", ylabel=\"$x$ (m)\")\n",
    "ax[1,1].set(xlabel=\"$t$ (s)\", ylabel=\"$y$ (m)\")\n",
    "#ax[1,1] = plt.axes(xlim=(0, 8), ylim=(0, 40))\n",
    "ax[1,1].set_title('y, b=0.8')\n",
    "ax[1,1].legend()\n",
    "plt.suptitle(\"Projectile motion without and with air resistance\")\n",
    "#plt.savefig('projectile.png')\n",
    "plt.show()"
   ]
  },
  {
   "cell_type": "code",
   "execution_count": 9,
   "metadata": {},
   "outputs": [
    {
     "data": {
      "image/png": "[encoded data removed]",
      "text/plain": [
       "<Figure size 720x360 with 1 Axes>"
      ]
     },
     "metadata": {
      "needs_background": "light"
     },
     "output_type": "display_data"
    }
   ],
   "source": [
    "# plot results\n",
    "plt.rcParams[\"figure.figsize\"] = (10,5)\n",
    "plt.title('Πλάγια βολή με αντίσταση αέρα $F=-bv$')\n",
    "plt.ylim(0,40)\n",
    "plt.xlim(0,80)\n",
    "plt.plot(x1,y1,'g--',linewidth=2,label='$b = 0$')\n",
    "plt.plot(x2,y2,linewidth=2,label='$b = $ {0}'.format(b2))\n",
    "plt.plot(x3,y3,linewidth=2,label='$b = $ {0}'.format(b3))\n",
    "plt.plot(x4,y4,linewidth=2,label='$b = $ {0}'.format(b4))\n",
    "\n",
    "plt.xlabel('$x$ (m)')\n",
    "plt.ylabel('$y$ (m)')\n",
    "plt.legend()\n",
    "plt.savefig('projectile.png')\n",
    "plt.show()\n"
   ]
  },
  {
   "cell_type": "markdown",
   "metadata": {},
   "source": [
    "Και να κάνουμε και ένα gif αρχείο με animation στην οριζόντια βολή μας!"
   ]
  },
  {
   "cell_type": "code",
   "execution_count": 10,
   "metadata": {},
   "outputs": [],
   "source": [
    "from matplotlib.animation import FuncAnimation\n",
    "plt.style.use('ggplot')\n",
    "\n",
    "# Config to put the animation on the jupyter notebook\n",
    "plt.rcParams['animation.html'] = 'html5'"
   ]
  },
  {
   "cell_type": "code",
   "execution_count": 16,
   "metadata": {},
   "outputs": [
    {
     "data": {
      "image/png": "[encoded data removed]",
      "text/plain": [
       "<Figure size 720x360 with 1 Axes>"
      ]
     },
     "metadata": {},
     "output_type": "display_data"
    },
    {
     "data": {
      "image/png": "[encoded data removed]",
      "text/plain": [
       "<Figure size 720x360 with 1 Axes>"
      ]
     },
     "metadata": {},
     "output_type": "display_data"
    }
   ],
   "source": [
    "plt.rcParams[\"figure.figsize\"] = (10,5)\n",
    "plt.title('Πλάγια βολή χωρίς και με αντίσταση αέρα $F=-0.3v$ (SI)')\n",
    "fig = plt.figure()\n",
    "ax = plt.axes(xlim=(0, 80), ylim=(0, 40))\n",
    "line, = ax.plot([], [],  'r-', lw=2, label = 'b=0')\n",
    "line2, = ax.plot([], [], 'b-', lw=2, label = 'b=0.3')\n",
    "time_text = ax.text(0.02, 0.95, '', transform=ax.transAxes)"
   ]
  },
  {
   "cell_type": "code",
   "execution_count": 17,
   "metadata": {},
   "outputs": [],
   "source": [
    "def init():\n",
    "    line.set_data([], [])\n",
    "    time_text.set_text('')\n",
    "    #line1.set_data([], [])\n",
    "    line2.set_data([], [])\n",
    "    return line, line2, time_text\n",
    "\n",
    "def animate(i):\n",
    "    x = x1[0:i]\n",
    "    y = y1[0:i]\n",
    "    # draw a red dot\n",
    "    ax.plot(x, y, 'ro')\n",
    "    line.set_data(x, y)\n",
    "    x_1 = x3[0:i]\n",
    "    y_1 = y3[0:i]\n",
    "    # draw a blue dot\n",
    "    ax.plot(x_1, y_1, 'bo')\n",
    "    line2.set_data(x_1, y_1)\n",
    "    time_text.set_text('t = %.2f s' % (0.12 * i))\n",
    "    ax.legend()\n",
    "    return line, line2, time_text"
   ]
  },
  {
   "cell_type": "code",
   "execution_count": 18,
   "metadata": {},
   "outputs": [],
   "source": [
    "anim = FuncAnimation(fig, animate, init_func=init, \n",
    "                               frames=51, interval=120, repeat=True)"
   ]
  },
  {
   "cell_type": "code",
   "execution_count": 19,
   "metadata": {},
   "outputs": [],
   "source": [
    "anim.save('projectile.gif', writer='imagemagick')"
   ]
  },
  {
   "cell_type": "code",
   "execution_count": 14,
   "metadata": {},
   "outputs": [
    {
     "data": {
      "text/html": [
       "<video width=\"720\" height=\"360\" controls autoplay loop>\n",
       "  <source type=\"video/mp4\" src=\"data:video/mp4;base64,AAAAHGZ0eXBNNFYgAAACAGlzb21pc28yYXZjMQAAAAhmcmVlAABq0G1kYXQAAAKtBgX//6ncRem9\n",
       "5tlIt5Ys2CDZI+7veDI2NCAtIGNvcmUgMTU1IHIyOTE3IDBhODRkOTggLSBILjI2NC9NUEVHLTQg\n",
       "QVZDIGNvZGVjIC0gQ29weWxlZnQgMjAwMy0yMDE4IC0gaHR0cDovL3d3dy52aWRlb2xhbi5vcmcv\n",
       "eDI2NC5odG1sIC0gb3B0aW9uczogY2FiYWM9MSByZWY9MyBkZWJsb2NrPTE6MDowIGFuYWx5c2U9\n",
       "MHgzOjB4MTEzIG1lPWhleCBzdWJtZT03IHBzeT0xIHBzeV9yZD0xLjAwOjAuMDAgbWl4ZWRfcmVm\n",
       "PTEgbWVfcmFuZ2U9MTYgY2hyb21hX21lPTEgdHJlbGxpcz0xIDh4OGRjdD0xIGNxbT0wIGRlYWR6\n",
       "b25lPTIxLDExIGZhc3RfcHNraXA9MSBjaHJvbWFfcXBfb2Zmc2V0PS0yIHRocmVhZHM9MyBsb29r\n",
       "YWhlYWRfdGhyZWFkcz0xIHNsaWNlZF90aHJlYWRzPTAgbnI9MCBkZWNpbWF0ZT0xIGludGVybGFj\n",
       "ZWQ9MCBibHVyYXlfY29tcGF0PTAgY29uc3RyYWluZWRfaW50cmE9MCBiZnJhbWVzPTMgYl9weXJh\n",
       "bWlkPTIgYl9hZGFwdD0xIGJfYmlhcz0wIGRpcmVjdD0xIHdlaWdodGI9MSBvcGVuX2dvcD0wIHdl\n",
       "aWdodHA9MiBrZXlpbnQ9MjUwIGtleWludF9taW49OCBzY2VuZWN1dD00MCBpbnRyYV9yZWZyZXNo\n",
       "PTAgcmNfbG9va2FoZWFkPTQwIHJjPWNyZiBtYnRyZWU9MSBjcmY9MjMuMCBxY29tcD0wLjYwIHFw\n",
       "bWluPTAgcXBtYXg9NjkgcXBzdGVwPTQgaXBfcmF0aW89MS40MCBhcT0xOjEuMDAAgAAAEXJliIQA\n",
       "Ev/+963fgU3AQO1rulc4tMurlDQ9UfaUpni2SAAAAwAAAwAAAwB6mPL+rE35KLD0AAADAEGeU8fU\n",
       "Uh6yMwDXynVmlXF4RCg/ntfIg7EDiJKlHncywHv4/n64Nx0Xm5vHaXPl6Ml/2GPRq5jvkRgRmsXZ\n",
       "A9/y7b42DhTzGpIGEyhCOa72++05jr/An5J4JHl5dZemciAqiBkGqXOslVgn2xEpEddHS4dVISKA\n",
       "oCJdkMwQx6yMyLOc/1PbipT5o0zwFYKUxKXT54J0uY4tg6jMwIu9Ej7TVPIFTeKFukoL+DkYZg4a\n",
       "1ZXIfsc/PVeqAu9DFcgRTctr5QJajoD8W0f6kNeR+SU6O7C6MCMs8AUDDmR1EeZjk/EMbmU7vrIa\n",
       "Ydmbrso+M7mvC6JB7TDXaJD8nRQB+Jd1pPNretEZa763ABF+NZhitYCG9EzRkCb78YmJygZgCY1r\n",
       "+x9Yk+e+ccsb/JeTThhAleRTlVt/ej5u++fsGV4qYqUqVPRKZq6SyGwQJwNSsyRDEYK3eIE6912b\n",
       "84VoUmpAe2icN/YzTSLUNiwpmjRFO16AUPHI8niAX9kXheeveNeKXP9kVe0bIB0SFgvYO6fQPDA9\n",
       "1elME0UrXIj7ufD+1bZknuPen9oLoQDprN1Nn0+/x7SNEGkSk5bewAF3BJ2CLfFHPCIol8NJAECY\n",
       "E3fQv1V8OpFgkz3TOcHF5/cyGm/G/a5x1uGa2ZTHLnM2kmEH8kERov2dueRNT1IsJQA8jMk22pzl\n",
       "OB71mjpm/kK1tKJvcUMVa3dhb2V8gEhgZIe357aIZrDUo4lKXI8EwrmbcCaIbKjCl6hAc9ZqUD3w\n",
       "LIHAWn3QXkOISGarY6z48xQZ2VbaG7/1JWFaXoPWUdTmHtL5OIVxfLUNiXI5exbPnU3cFxLD+O6z\n",
       "R+lntbinJDTvmX+wTPFK7vx8bT/CM0ttBGQY7I8Z+wV8Rn48N16qMyM36vL1HoANdl8mspe+iGSo\n",
       "BFAlh6y6LJmGpPx/f++6DtpmsEgcxPVSfO+Xn8bYdfEwY0TTH7sLoSORrnywKcjH6Of907Pi9t69\n",
       "z7jff521Fxo87wONg0AgbceCBBLm6qG18SyABRe5wb5i+kwP7MTtudGn5jhmN567fqmrUzDaoyVI\n",
       "YhDz5/lJHWzPNh4hLf/H0zKAPzks2N3Q57Q5We6I/xj6QZknoxK58emzPRSV2pnJziMtNkUhAjuP\n",
       "7gomFmC9ALHPeM3p1kSebB61lul+pbGzsx7vl5XJsgZI2HkeLvhsKj+BmjLQ5w4yd+Hu+kV2Hskn\n",
       "Y9lBSC59aKJEXu48qW/dU2Tvtm16fKfaxNXy60zm0WhUTtP2tu5XLmPXAf7lF3bC5S6cYjWyyHQI\n",
       "xpmp3uEgoiptIRyhbSz9fm0OeLMOvpIGFIT2t2DzrcxuYkGOTyIchS5R0oWJFog5XOvDKcUemTLw\n",
       "+BENF6evtH5ybmlamMAB35aw8hx27/FjI78Yx0LzcV9RfiZiQi6Vyrs87m8QaoWHP1BJppRq/Xiw\n",
       "f8ajhAnSThAmnQj+oGjUrM801PNSSo3QZaaMBEzAiz2oiSbzD0UglEljjvpJJ0CgnmfIHDna/Y7t\n",
       "rXLx2Ur2apOSNaxFX8fMg46DG3/UpX/JpQ+06VQ16Xh2/YjM/LwXO4lQ8Es2upQyMy5Iu8bCZlvg\n",
       "Xqb/bl1fZL3D1n0rKLn6+gQBJLokV7csAdbO+L0uURfrqpgj00SdYrO62Jv79rG+36xnH0BF+fMm\n",
       "OwU3fMJW80uGrhYApHuIZoda5amKVjke5JS/mG23r81ndOxighaTzpbdsNOrV5vJ9W9ygqDQxxTm\n",
       "rulIPx6M48NwzVZVgJr4clohLD3jSmEqDbOAcEHuWOZ22uYMszDSHFa6XbsM34gEEWC+YdB/cYFp\n",
       "8qWYj7Tmnjmwq2xQigcyJzWTV6nT/zaomMBKMn/oUmzBCfx3kwQVAThG07Y5vplPgjrdiZOR2a8t\n",
       "0A0MBQfS2ETvNcmQbzxv5BtFch2nUBobXeI8P4qwAfngTYxdpUvEGlvHieKPrlv0NqRWszCpnfJl\n",
       "io0GStdFHTA+Vt+EjkIPEo6bqzik93VRifEiPpuYcdn0SUx/0ewfxvA8S56pfsG1/Zylbid56r5h\n",
       "/DnYmFHllMqERUXUgTt08WkKgU9OLZF9BAPOagsQ8noOvwFN+9Fh34baR1XXPv/72sqCIRVb6e5o\n",
       "voODQLDgYmvMVzjXm6R9NtIsv/9rIpwVgNKEeuQo4x+UEWznuftGgpvZ/4d/FJGChYAABlKXAJWq\n",
       "qL1qO6AQVfNojAEJS/Vc914PwzemYeH3PrNsITfxSiZRl82HN+4JerIx7MHWBK2nb9pFmP0THnzc\n",
       "HWN7+YVxGy8nwIIvsDu+97nQOnKJ2uVfhouV4UHw/XWb1cDkvt07Dn5m7bPbBO/q3VApDA5jaRa/\n",
       "q/0JFm0cQXy8R5h6SLJa/sCWrXP3VlTf3nqW6zuJUSPUI9zFy0Y8eC/MFoP/ekqe41r6znc+w2b6\n",
       "B3rNnXz0WOrUYUlhu/4Em5G2ldj+2md/1r+JP4i+U/2mWs0emBVgYs/n+IU2H0atyTjxMKkA9L4M\n",
       "iXdZ/E+hAu9l9QaG7y8ha/54IIM9mMcFzr27MHHROHstWcStWLSUxAljd9xefst6RJ0MLmRbUR18\n",
       "ie/jjwT/RJZCnEgDzZ9a7jNU8bEhL3m9H8xwDlygR0TXVGPu2VT2U/oJONeioXEUGjrpE9J1yWUH\n",
       "F+P/yZP15+LyiK7bob5QDD0mohWUP9IOke/zTPHIy9tb/phJESefl2yEKl3RDp6BIenGkLdU5psA\n",
       "ABKCqPWHGCw/zWfGwJXz7+Nc9TRDdhqdAdNo8hZcD8Bwsx3Bhch1LbMWi3Q/aIN0HwBM8MSufhzK\n",
       "wMF/3v81PcSWKVJiyWXgwVYjSER3gnhsilUwj1vUnu8rqH/ojlpHOAkt4PaOZHAyPhkXiZWFfd2+\n",
       "MIBD8fkSASL2NUwjved4iv3eQOxxVquPbW3ynzx7N0gb2DUlPkk1qijSaEi5nmxl8FATGdhse/Pu\n",
       "AleGpXIgD4FmsYlf72PXjhJ/MnB1ihhN5V9Agi+Mo/uRKTSrpXiTobgh+3j89pLrIyGYmjzn0rvd\n",
       "X/8slS0nBp/S8N/G7VrnpAiUws4T3Oa51ND91c7+ZDV+H3c9STYa0AESnhONhrRBvMPR7vURBGWp\n",
       "7BFrOj7hoeYU/Cp7GnV10AxUHDKvi9rn31Ys91TYEdOx77BPfIHwYNPl00FfItamNYWZ78DYioi/\n",
       "SUovxOSGP+w5zkeg6lQMhrTtx1Q++MYebP1QqYpiId6Y9xXXMXuIHK79OphXTaU1LilZGlHHu8XX\n",
       "i4g/jXTeuLQQqgeOWPQHQNLaJjL0Gn3bMT3lzdG0eCb4kniDN2+0rFniRKVJ7oo56uHcxzaOk6Ez\n",
       "sOz/xeNDHnv69rKtOL4HZWUtFBDh87XbxJe750+da7HA03oqotPHf9G+0OKv5/ap8y7v/6mv1/wo\n",
       "k8feyIZ6CD8kSW0n81qTUUeCcqSB9b5NQadLkvSvTbrchldhBGp29yI43fCbnFUeolBiLzcqgrgr\n",
       "IZSTTb+x+w8YbsHJijn16lYotzsZpBksqKo0fXCSG02lrRTdnNRC1lPahfn+Ty7DTYQ2m0ytMMuG\n",
       "2oMwhZyV6YDz7wefg/N84TmxCHdcGvLxCLSRlAUbCJRU0NVeFSHkINVaJXEW1fDGEutSLWfIKJZm\n",
       "81wnHZ3S0xMYqR5ITpSPInJ7E38pvARRJFa0AD/tuTO0Gl9yn3oY9192Bdt+Q2DXREfKRWrpXYyM\n",
       "Scv5EY9n3QVaph2IlXPmRq+ZvzHPvbAZeMa/q63lpa88icjkdubQy4m67zgkuvi3LTk0mSAipfvn\n",
       "rmYDY4oNUifSbS6l+iF+bo3R+f5lKn95hKdEl/8bQ8sBl81ZYFGVhq11w0ZpMi7JJNAnIv2N3KEB\n",
       "sPHs3OGyWj/1wCnRYy+E/nvpI2OMPODJgNyXW3B4heet8av2e1mGxLfwAB/h68awLxY1egcnGWct\n",
       "FSbZnIv4EuCHQvJ6WFwxTVtcIvo+tcd5e6pNzAIB42OIwxJKqBCs4Ut+ahLePrIg0t7d85s+C8gE\n",
       "/oYquy8XSYn/+Zw/ITQv++jUhTcXux+HAhEMbA3cCa/UDgSW/CZ43QbY3EtgkLc2YO6qof9QP2PO\n",
       "Ir9/Nyn/Vf+zlFjTiOupATwyClRgEZxt8Qt8Sn7xJ7+EVqimw/wl2f/6kpAaeVyNnfZyTFJvaWS0\n",
       "mqwMpNHIieyFFH3QTiJ6oIMR30lS0j1puCOpBPnc54tOkH30F1tCoEr2ekwPGJukDKLquH0e8d5U\n",
       "8HXK5ZO8sNJsAxbX1pg6rVFHpi5exgArX0/RTgqN0XWNpmMTka422U2OuJF7Tq3xoQv3EH8KC7ih\n",
       "8iOTkXAaa2tFtUdymb86A7xmaCY0yvLt8kVDEQuN8cmXLpOtMaWjmb8yjwcntMXEAz3TEG2a3asi\n",
       "r7vOahYOtRUNs7VTictLP/7Tt4cMEH7NlNQEjPD/VOp1BfU7WlbwBVxfirdCF6UMQXxt7qBl8EVd\n",
       "bYnCD18wPnYXj8LYZx8ceKzBF3u7Fyv/KQNXXiO0WFl0PJsMY+8AuYrvObddridMGaF0BgI2AdFC\n",
       "zpzaU3vhDD7YodMcyafWIzPftnwGQBlJMUAzvQPQXCxpBBFFgiHdDrHrr2PtlJ4Hu1+HLkMchMRM\n",
       "AQEXzvK1oZln4T+KIvwkZaYz193xpLXPFvhIH6QoeP7Be97kCqxzHqOHupzWdVrPafYmEl69kw/c\n",
       "G8B5hSe2lsFbHx7oSxbB2o22Sh9DNe6NXEM35kLJ08TK5Lt1DaKzMqBGe7RVTkoNab2NIro1xgUE\n",
       "y/o9vXvqHokzSlNHB+c4SVGuKboFcTtZVmhcucv794ZzBg0+JPHFRCCpUlcscZdpdhgjqZYDV+m3\n",
       "gCC4O0opr+BEVlwhFr4aRDgrOAaGm8ugmpfbQa+5vxNRA0QJepvaGb+xGsntxma5vIGUMNEoKWog\n",
       "V2PbJ3wCvooiA3mg4JIjUCadcwGxCpcAQxnQ0pQq6i7a/OigtE7pfnFPknrsCvWkyRkp/seA3UdD\n",
       "cCiNTLHqJS1hvDqReJF/DA1z7TsL8KxnRk7s3IS99ET1yybjhQnEHhixZQSVAoMOUo8qqF4TeCRh\n",
       "us227/wGpem+L8feAK2cP5KYDI2grmiUPVNzImP/2Tq1lBbM7PXGIrUPjuovT6vqKGXZ59zeI5R4\n",
       "MU8huZuvYObYerX2dQ8DgnAUHYvbQU4I82daTjrNEqnQ8yc542vsHdTwjJiPpYmNfwnzy3JiAXut\n",
       "VV23P2PZPv09gMZYjXkj8llCttR0U5XuCAM9OtgeBKU+wD/Uuz0+BB0dkRVS4D2Huy7y5s8MrDRS\n",
       "cl0pS4nNpo5QSN97lQT96SJDi9W4vZajK54nbM0QBV3mx5zCI9DGFZP6sJS47zQ7LphQz8YpzBUp\n",
       "hIBg4Wwz8dGVEp2r0Au+DYTDf8VYIEkgSyoxTwNKZhlsNEJlpcc81sTvGgIQ24/nbFSLxX5uosHJ\n",
       "cxX/B4rmvowYaAfR13pLlbLfHwiQ/JjU7pcD9NtMAief5Tkfl4A6GprpE57Oc6rjx5aX1CKojo7N\n",
       "h3S76Xin7N+1k0NDvWHQejitmjkwh+ymR65PLypnoGPUABkguWzztkJnrm28rlY9lmbVPln4kF7r\n",
       "Eiz9eaqLq/3hTlQVt0f+gjv0f+0zw9BwvOCaOt56ZHwg1eW+S8/GtyOVthYk3mXEu005ohwJ6QvG\n",
       "EN+p1cO2TI0OlLRtltlmnOqG7GnQrNUh8oiVlM0kjSS08IctgdN38FW+5sJwpPu9IfgemWm/E4Rb\n",
       "5/OsxhPg/3EgVRSPHET9L+uK7lYrqTW5ZNVWnDdS8uUk6J9MhVz9SHTExtcMPBJPtw1IKaHp//tf\n",
       "3nn1CXkAAJt0sQAAAwAFzQAAA69BmiRsQR/+tSqACyjHUAUJJYi/SBCg8GivPzBIBLJg7+f07dmi\n",
       "p2B5SjHgwe7FLvH+7E8qzD3XtxlfJXN19hoiGwxcF2/zNeG47+cj+2gPQw6ZLA4kNl4AB+X5Y2t/\n",
       "qMGtHyNAa5DAG4GDhzET8GRfZk/2WL0lYu+Nw11ta/Rn9x9fHjI4E5XOBgfch3Py73ChRfMucZWV\n",
       "Otj3wK7QQFA8/yJNmR52YIo5qqVFeoo8sSRAZpDo8lnXMLldtX5mMEiPWPKC97uzx/4ZkYDmUFQZ\n",
       "H+AwRCsHalYIFTTRLDVZBW+BRrNB6oHFLW/4ysyJAuv/yHwpFLEfP6LbMJw8i1xLct35HTm474iD\n",
       "Ixf/mgiC5zi4iiiyTY7bZC1W/GLZJRlMBWxovMJ/7totAjZHVlfkrtKBy8U7b0xyYwD/tum8YxJY\n",
       "boH/fXhIQcGRKDwcyI0WhUftWubhpps3Jx2OtyPg2G9SPdnhCHXccszkgljXhiUvF29nCEXKXkRn\n",
       "C2+Vq2IpOz/5xQ6j6Wf4NbPZaVM3n5K5exq7Vj0UAKPPEuFdoF4a00ZPDz6j0FTK5EmLN1SePq3G\n",
       "7CaWCQJcC5x1qQW0MP8bBtod1y+GEL4oPzJNUsjOVNGLxFlX6ptXWNvD64htZmVBRbK0Kel9ZtBh\n",
       "Cam0dDx5fbzX9MNuBVRLPlcOhlVTHFsGhH695x9/ZgRRPB4gyqUpB/wefYRjcBbk5C8P/2+R5OCv\n",
       "szXmeHXXmJJcsvLS+DpDUcQ0AfYCjR1CzLihtnqe5/f4Z3UCPqodLO+SBOBW7IHobFEWWXRZ/Vxu\n",
       "ZwIjbVWcRk8aK48O7thAy3kNK2YcdqR7l+TAIhDTj2PTm1DJzW0xq8LeBw0q/PMjr/DWRv75arZi\n",
       "Cpk9C/jTI05Hwk/SRjfq98sLK7sNeevFtaYYAioU6xSLIChgocRU1qSVrmRCsDoKas8PFlV7ZtiF\n",
       "kNojKbJNS84aNceXFy2rToKkYdi55jNp+glXttf2loouHkyXxy+tt/oELLTl2+T3vkEExQHKvJrp\n",
       "Un0kFQuiU1O1016EAIihduSxJUYVNn87yAsJYf684royv61RVN6Os92bAoDP4vE1STeNx8yQRW2K\n",
       "BsA4nj3AoyaDxIKrSY1vUsRHl/yz0gSQwO5+J5QJ9pTosvwqVmFA0b/6vRU+JJ3TteljH7z0B5G/\n",
       "5SjvDIuYCh2renfCF3HcBu6Y1GlUHd3bl5I5WSsq9d/Nj//mfeoNPEYUdwq8Pn1odYsrAAAAp0Ge\n",
       "QniH/wAJK0ls/sa+q5QADSmNAs/4aOiBzxk1fYUnLnDeujt7Z5aUomWcPB/g9P4RRocyo1JFVt5O\n",
       "JbwWOry+7TO6jFAsmaYV+fSNdidUNOpMD4KNodfRKt6VdRJgKN/7yAe8/u7lxtCiMi6iyBmmGGyD\n",
       "r5BrLqw/Zk5f6HbefyNnsEfK3zqcey8yku/RQTOC/PfUVkm9WJf8XF0kMQ+yH4uXpnXBAAAAewGe\n",
       "YXRDfwASV9ujvPsT16nfbcAHxQQe47iBrziKBoVpjSQT5mRswPRaYUf0I2hObWGE/gXktDIDs5Iv\n",
       "0jgRQyHmmvfXCTKVeYAilasT8ofNPv0TzdAapaRFxFJfrzTiAGl0mphWhuxPvDQhYgeruDV2Z0/J\n",
       "biegxwxGwAAAAG8BnmNqQ38AERk55P3zATWkAHyIxJYsBlayL50OPqa4WuwqAmshCOnP/hbb507T\n",
       "NlHuy8t0pC4kr9mpoZtfudZ+uMbuzuZQKsAT6W1l3I8LntSa1FzGBwlJrt2UC/5kybbYy7zz8cdW\n",
       "FXz52EKtNx0AAARFQZpoSahBaJlMCCP//rUqgAMo/0SWOPLgA5/i7UzBFfZjBKT+O/BsEE9I8h1Y\n",
       "/E0pUjkzxjf6PQiffD/s0dnEM1zbvFNUXyCaYSZQ7r0+ONpMucofhtOAUc8VZ9vKLzrdeuyrBHhR\n",
       "xztUtVBeujK04QSU5uhhN1Vjcv1kdLxygdH/diJaF9N68kHYM7Aol7+WD79a4X2Kqoq/MBkGBTCF\n",
       "7jmlD0HREDbEzu0dw8vAj9oRfutfMF+CeIOGRgqXOd/ylJKFC0teg6dGThaRXIdoI9n4WWgdyjEP\n",
       "0aZ7NcoSOAVrYIMOzBM3fuMSHJDyVoaZS7CTw3Vj+b9lWnoH9SvIBuOT346UWzkLCQxTjQx/N8YG\n",
       "UETw/+h71PpicIkTFLbb6zbu/B1pJuN4UZacJL+V9s77HgIEmptTSBug4ixZI69kjpl9F3eG8Hho\n",
       "6R4zJgWocp0dx/YscKP42VPuC2F/vkYxU//+M9EmRGfmlQhqMZpqe95Hr6jL47QLVQ+zHQ8QBxoX\n",
       "gOS9xj1xxDcFRX34OP4C1nBxrGkAu0FOOJzBt8hg1TalmKwel2NP7yNpjwnZ6/uwwfc2DY0YvSBn\n",
       "FCONtECLja9gi/ueLUhGh9IjKd+utN1oUC15p6gElLLpo8XCtAqQWpM4X3TxqmSLpFAn3NzXyi3O\n",
       "XOYUTqg+2F/jR5LEAQztQPxD6IJrYqp5usuFONkzMqc7D905N+lvcv4DxZvoJGtNPkhzuODjztJY\n",
       "SdENT5fo3XLVYpOh3DqAn6c8wzrSN/xAUwsfmsxq+c4iZ5LGglBQDLnZjIlgWrk4vITIJdH7D/o2\n",
       "MfqslyqUHj1fLXOFdtQ0Lm612u/gUCKwrSC+e6YYOZ+8lhAv8B9JmtRjVgNHzYJsEUcCr/Jpr22I\n",
       "X86ptnr2y9smzLfoZRNnfGBwR0z1cKYt3rQNFqIN/oZsES8MOIWhpSmq44IGrcj0OcFL5u3orZo8\n",
       "9FEYfQSXKecynVv8TExrAqdVZ9ymTKMoWzIiOH1hYnGHgD26X+VNlkYrsL8BNO/hHBb3lvczyeJS\n",
       "l3M060Q7XXmJ5Cy1K81iPYNdGICWxiJdiwfSvvYn1C+BddEXA6/xthF6ZDN27lGm9MUfeZT/nY+E\n",
       "xu8qTJEQsoPrnjTAVIm+YH/LuFtiUk4AlBFYaGkCIU5MAa4sAw2o//t34klrvo26G75QSz80ooc5\n",
       "B/El2zYPmBzId7gzji33oQzyMWlicdQTW3cluUl6A74SV7dX2jK3XYkowt1j5rtn+0CnsBSDJOA3\n",
       "ef8x9bh/PsqV/6QZlbBvm1+Wg2IGKK9ArAoaxcwqAE3CI/fFnNjfnzzruDe44lwnGA+5J4Wr5fHa\n",
       "kKS4Dw3vvrv8pTJf+rGxAawLnkdXdD5KOC2mXMP0pYdSvV/Fz3QYuYxuILLTUBsnUsOzXbD5MU5Q\n",
       "dTKTEjr6RLYeUAaOBNNS9a51M9nFxwAAAMFBnoZFESw//wAJrK00nDN7x0ihtAAM+4GlOiIXLGcw\n",
       "X7RhhDtmBNt51HYjCu1Vq7Cm7+KspB6fJbh9yid8W13jAs3zScrYeHmA1PgFLL7OuMqNM77bqmNV\n",
       "uHzMEwn3gCFufsejiPeTW0trYX9P5c2gUVnq6VU348Y4GgaD3/gO4/0v//gbzGVfjs3YbUcXrfjT\n",
       "4w+kbLzFUKDJytNrPq4H0ETGzN7tYIeYI7ndglOI0HEVu8fgiprmibZRX36Sz9JzAAAAgAGepXRD\n",
       "fwARRXd8+j0ACTSkE4++cEABUrbpOMgupcNh9YXa2pJpMff2YdQ8yCxc3w0XiWV1VOFKKq5DdzRn\n",
       "0cj8cGVVE1hC0cDW/JZugFWAbpQzbO7KxaREccDvLeZTTr1Q+kvLrnxrEewyViVoMgm++3Vcc8S+\n",
       "aWS1/W5NHdtBAAAAjQGep2pDfwARbYsAJco0l114kt6jKn07TMc2ughvB6GfV+8M3gcrlyDEtUxm\n",
       "FrWMGF7zxbQsd3HyAvD8P5f+ZCNvKtEDCZBquQwjODDvq7ftdGBq0B/LiIQnirCGsx1CtaFhDE+N\n",
       "Y1Oldpu2dty3zmJkAyoan1Q1el7Axoj94fBasHhENltkp/15TedT4AAAAqhBmqlJqEFsmUwII//+\n",
       "tSqAAz0JflIGtAAt5VlhnevCLDXP0KyCNE1sdtL59rmPAHA2ef9SxbEOkOHk295v6JusSbMqNrJl\n",
       "sFGmfnUXOYMWuSsobBj6SmmOulUIZCTsCenijFfDhFtPstn45/kHtiQtqegEPcoEJrRg6Nh+sq3h\n",
       "amZd9MXgYOmUQMu1rPCgN+yWxkykGSMWVrn/+EDlAdtoB8lUCM66up5ao7Byt9n8CnbDY9WTCEsf\n",
       "kF9G2tDp6czrfYgVTtjpCUj+oEKUEPjilmpyvcS6LMsh3whI5rFX9EZHqWzjK7ya+GvYzYwGE+Hv\n",
       "4hndpSbcGTrRWBkukHbBEA6TRX3qTNUmMP9Lwr8ZZM6SA2+LNrYvjsOP4vvkTyl+f6ekWuJXzT1D\n",
       "t4tTpg/18lNP3NE/rsn3aRSPwq2YKPY3GKIrULnOY61wjDC6V6Kg5JaeC4sW2i2TGQQmu2kPn32p\n",
       "wj7eo/K1/RGNHwtYvVWbRoZihNlPjkCdk2FT1vlGOeQOoT5ZlMxQLHwQ5KZPqhMivxXaHWsEcmek\n",
       "F3DfW92pIJskj4hVkrZ/gT+qLirbF8yYFZNuCIM9VCYZshF0ylTcezH0mgVHILTkQc/NUvS4pWSi\n",
       "ybZynEv4iArmZUuUqzL96j4H0ODtVJcOgNOAvi+trFX7TgxzQNZ0O5Gm1PZz2w25wxUaSpOUqr0l\n",
       "gwobuwy8Tb7off8jbeIkCXD+kQVWXtC++oeMZBcv8f84+sMGtFhDe8NjIiYQwPm1bwGef97cMR3p\n",
       "fK5c6b1ZVIIPbqZEI/Q6krADqnItr6WJuubY5zMCu3pD4W2RtcO4wvAaG0pLfcnUu8QQtRHWuGxY\n",
       "oXFh1PlOBViuAf8PuAG1CQwI7b9pRsCby2T2ozGJNkVuWwWDgpPM6QAABZVBms1J4QpSZTAgj//+\n",
       "tSqAAyk8aDUAFpQgKPMPOActGI3ZpXDO7TrVJ2sY43dMczL0nScfKKsoXgFFNIqS0MPdOc+NAb19\n",
       "KyxbPvkr5rY867fEkTUjUqM1pFymUKPeLfRYgCf91WdGRXYkpyARyBaUrQ3C/8E7YJ+bDu6LwKui\n",
       "KSF9lbAogX130jfITngSIKdqxB2WZVLNmOInGPbjH7JHH9oOkMK4RR66b4qSdnmClNBHNFr9SdH5\n",
       "1fzOYzgboToqSULrEx88C0MNCbSjAmUptprOk+erlVcR/LY0PXIpW+I7FzW3dWsdHxsTkrbt1Q6v\n",
       "rJjj73PhTfR/kZjOeYAD9eSyYCTnkI5rzoE5GWhBKpwa1NH+c/cM16MXn38XD06A2TM77n5ziGII\n",
       "7TxPiJFDlIyTK6GNliLSW9O1gD5BjqrOKWgrg4euOIkyg0oMEHFyrwNO37sa9cf9Oyxa5tRgqWpv\n",
       "dYigEJSqWN5FHdRaTsUgEDFUDpnOpcUkAHUnzV11vxgLmgRM2hhrHscrnNYvf6q310Nnivoh/jAu\n",
       "85QfUKPU6cwMei3mKN0yvGyY9oBW395zIe01VPIF6rbsg44MWy3vJjMQbYlbflMlv8TqFhW62/hT\n",
       "nIsGbkBEjr0LZ1/vAMf5oPi9EZnZGMXVldSG7JHcQYEttt8QUgJhv1B8Q9OWYBKiiUhHnSkEl2Xm\n",
       "j5IZWN7GfCAfKmX/nxIE/b4wsBa/ywMwZV3OBllObIJxv1Bqp7r8bAWoQt2SBbHhgu0gRwW/qrpH\n",
       "bCOygIU50r0BTsPrNx3GutbOZt01qse7F/iKz7OvCFXmGl+3dkEDWdvauovftw447pxui3xTdBj7\n",
       "WQ+omayr4L8K61wDlw7HiNmkUcC93qiCPNaAKdRTNHTkPqCKiN2jVdmC4GSL4TntL7R9sIoipU7c\n",
       "QuGo679dAv07DWlXvnOj51MqFZz4wTVj7+Q1Xdr/s7LJ3VFgMpeLIUAAaqwwPG8WMbw2pATejePN\n",
       "LLLXCtTCz451BP3XkXHigZW80NsBRC7nReIhg1F1W9NLvYAjw975aN6tTnZWOQ0lPdgjqajjaeVh\n",
       "UAIX9umliMECzvDfxDPxpdVPxbf1HoGGOPrtI5epN2PsikMmcajZZFbyk1BoZgjCYwjmenRjc5cQ\n",
       "kB0Pa0yw7F3WKBmNX3VzgswNN2M+uZ/LNFZBy2skhRPi8hxpmwUyRN0dnaVjH+5z/wmw57fKQikF\n",
       "AVpPyfkch5IuyuItNgX6SuSONDnUK4PYksauxoU/EAmb6eDh7nA+a5oOebGFwU2gAMEDYg7elaRV\n",
       "7zyQKb4K8lMRfsQsMa18u5Oh+vHv/CgRCH2z/9tSz/v0DdZxD5a5MzTl3D4KnYX9euDmXcK6Wr7w\n",
       "OORtFY3xPnanILB2dSNmxR6Y6k8DkDN+jsjwZ0SjVwaXdnRDQyReQ4gdktj7fLy761aky6HU4TdR\n",
       "rRrxOEE0ni6bK8KoQ1K4xPN+PJh621FePdokREGD/oskJVHdEY773EAJ4HuEUFBzJZtd9PwfxOS1\n",
       "6r1nRDdSkMOnPPGA8XvIB0fa8spnFg20eRAh578aWuU71FvGtG2qjUX8cMRyUUeoqdS9gPGL+4wS\n",
       "XWd+QMdta/P4NBZ/arwvq1nE/9SbpvJgvIUyBl0Ush4N3hMM58yBFuILBXNDboyW8kCChvFj3HX0\n",
       "HvdAPELmI+dBMd4bNvx1/4dK/J6RgLjZbDJTgwo+cGbPWi/zkSZ5nG+YQH9etK5prMT4fMbuxfh+\n",
       "gekrlQ8CVkLQyZ97jsmr5QabI3SWF3hEBGIzKaFTscIMaIU6P+9JhUIudzxFM52V9F1T1ytuFkyQ\n",
       "BQiG6kCjLjZrMXhvwLbQrwQsi2irfwHFze5bnUhbudRxtNCG0PDf1OF/RdYpKFsxAAAA10Ge60U0\n",
       "TD//AAmsY2Rc17SAAQQ5eEF+RKOZzX6bH76b+50diX7ded4awHrdGNsI8gtCjHpC85crBQIwG7RH\n",
       "FqjlHHMMhoM3kh7fIEJ5KiptOqHi3hPsQ0jwL+a3dapc7WOn0jRd1TtWtPmpSN0quqJS+oA26H/Y\n",
       "m05t+fyKtYbspcFj0Hg3yLOvZbI+VzcOmsqykhp7za11POv4ni1erxLlX55HFOlkv3Sd+BCn+Eof\n",
       "QzihdnHeRwviTRv5sghWY2Gka/+jMAiYiQ6QePEM3sMjDCD37uLgAAAAtQGfCnRDfwARIOraQAej\n",
       "bQGtRQG8vFUXv4moVus0kCybj3kRwjoys8UgMCmf4SxvOb3RyWkSYjbM0CFFsdcz84AlJ5X0tDRK\n",
       "irUeUoakLZAfH0AKEm4yJt4Ur+M7ZOFw4zh80l4gIetni95jN2xCXgEGPG+tuPvg4rcn1j7DAQp6\n",
       "vNRmiM9EWhIQqzWIc9/M/1p/CiDKG6uNNKqKRjsBiOlQ1/mWRlftTfl52QfeFAToFJ/kpuAAAADa\n",
       "AZ8MakN/ABFATtHygYBKABKU6gT9fgtnaokfibf31+Cxcvm+aNwveNLBmWwV4eqKuL8DxKOLS6Hf\n",
       "18TR3CxAN53AXl78M+FMKVozuf862QM6sUUxcO9LzUnrREbEswjxJA7BKzyUA4VbB0E5G6RQQyJ4\n",
       "oG8G8Q1QukS551K417JSNOxFClq2ZQWS5G3FiqygTmKInd/exUxPPSyfCqLiDAts1nge3QluQ7oI\n",
       "nIkjZobmPL84NPlD0nC2weqHFc+7ia4CGuUVYb2jkUIriA9au0zTQfwfeQ+YdsEAAAOtQZsPSahB\n",
       "aJlMFPBH//61KoADKPfuavsWAA4llLWp6gkERnf6E+pRtShD2rm6GyPjMmJFzgymItOh1StpgON3\n",
       "NH7SIw52aMWS9+N8UaO1gyzPXro4+09j4n/8IQAV+dYxlyYv3LoVin2xA1ChA3OWzykNbpwu5Pkw\n",
       "ZNh7y0R4yXjDIFaez07d/NAh27m/8hHEsuWdcRKlcZaG8bFjv9PFnn25qSi+/JnZCCr2B3QRMWEI\n",
       "t+l5z/IeBZ3JF64mkdJSaIC1okq6pONc0+ZCXNi+03xdb5mw8pWgl/JutjsPREDc81s3rIiUSUT5\n",
       "sxoj/APDBi2EOEk3MKH4rXE7mnkgKk/lbv9sU6oov35zRiiaFjctxbkOimqPZqyePG9qzToEl2Sf\n",
       "SA8Z6x/vNJ+s0aFoiMkhpYF8jELgR0JrWyzIzaAL1zNOF97pI8TQLMfz/0XBdLKYdFPXkeHYXJ9c\n",
       "KW5501SBtpbXRod/abcKIqERl27NGS+jHTIvmC4Qknod71zpRtcDmwxWINiX6BZyk30mZJOeC63p\n",
       "0/+sPXhl1U3wf+UqvxmfZcY6D62yIXH4kTWu9PXahu3IbH68Gf3lKfZ8cYvoRm0quj9SZtrWzy6g\n",
       "apB+n4u9s365g/N/goZEQml3pSHmcNkVPIfRkIbZofooSP63iN1MDXDd7JftdD5tZ54mrptAf2Zf\n",
       "eawfmoDvaUVnXIgldaZTxcZIIRGbBQ3VWYNzgP8HtQavzVPHLPVhGcwZcHlRjQZc8XgLGd6wp90J\n",
       "CjbfU/EqGJZCRKYzZwZ7ZETqWxoOHlgW3vmHJ2hQvgoULmuXZLEGQZRkbEL2qcS8g+QOszo2ZnBA\n",
       "DFI8XNIt9AiGEf5Zhrk4MYI8drBjlMPKfOxQdrP/Qm3CvBXIwLVt2GzAUgtTuGFsfn+Gn8XFz3Jz\n",
       "ha3+nhjDyhp2qfGPhyLOyflVtoRTpSoSO6T4CYssYLz94HkHzsn4s9kDxHIM2KSUhyRlodJbtMlV\n",
       "7Kl4UHIRTS27BIovrcxhBKOpetbDNd3bVY4S5bd3yuv37Huj3oiCO82B3VPyn0y+eNv4etz1bl6n\n",
       "1IxBunBcip+/gL9NQk7S7l6waiboNeILSwKorOPb6ZiU8OQ5AV/vJTOf6aFnD4WBtd+5mvr3JqnJ\n",
       "RUMC/XbGx0ANXGjqM/ToWxATYRmCbNXPx0jiz5e93qcyik3cop3Zm0E16xmqsSog0lfXT2kV1FXW\n",
       "LWtfsXNfLyRMIU23xYEwpcf9Ca7I2LEAAACDAZ8uakN/ABNcjVBxVJ1AB27uW7d6OhavQl/2p19Z\n",
       "0jnjJplf6e7GwomncGi6lDcmGIMdp6IhQiWJdJkSrLDS7Tn8NmEoWeMkrf2Bnuy+ohBzVPNeknGv\n",
       "xl1cm8RqVGMEjSW05Uc8oNGDjVAS2Vb0tjP5JUvVEup5Td/6EFPAvv182m8AAAO7QZsxSeEKUmUw\n",
       "UsEf/rUqgAM9DFmKx4AVP2NfcRz6VWc3EROLgBZskM0QNNEvu7hBXaIfRzfgaWORzGmcYPphLZZ2\n",
       "DKGWrWt9rOnKcf8wAW88eoAndSzlfODwm1rPu6rkzfozqfGBosMIrnZdZJp1Htr8GRtTCEiY7Zhn\n",
       "6RmmARfFKFcZAlGa5YxJQaRgNtPm5gZ3kVkJad/70dcrJZvEWTYAmXffAoYeOfJPZOIrEh5Ulh3c\n",
       "SLmYjz3LjsqIApkM5+MJoKwvrALywFnT0Z24O6RoCZVnI560QsMlRtlPr7YzjBGrw+yPNJl+Y/Ip\n",
       "QWlhk4u6dOGB1QylzvRCzZW/013ewOTrjLTETlW4JkPhsqIVqMAtBlbPZKGHd2Ra7XL8GwUNQbCg\n",
       "6YtkxH2Z1yxrlReM9aDj+0dyDIuOfftG9YI/X9+rvxB6Mcg9tg6j0bTV84NUQ20EagWg3YQLFTeO\n",
       "QKneI+QaRObPE3uphGmdKKZGskyrSV8XH3Dd4lLYHQt9RcByJpSNwjckTUYE5PeeHdvbCrKlFb5T\n",
       "xZUgLTZDx5mnkB/Cm2NNA64FsfoP7BvVG6akgsak59AyYFlFuYySchh5x9ioedg955EQphKffxWq\n",
       "b4E2ug2UQrcuRksrboTyGhX15KPzteU3QZ00y1isyFpqhX3Avk4XlHpJI3J7k/i3nOIk/Ad8wt48\n",
       "3IwYwlYKuJbMyUmBI8dz+53UVv0hj9+kTX6eMAoDOmZHPHsrBKlBozFzNz0es4r6LMb8JgqbNl8J\n",
       "UfrZzalWLIMnwL+PVCRllST+fu6b/G9ErkJtO0cwnE/EXEpqJGvV0gpheZVtRCUxmtdKDmbmFx7D\n",
       "yzmYq7nSzpqvodhXLFTnG7brlPAAzLEBdoKwgkVlgg+w9dYm3jyIj2ZGnh9zdwq4+1RGk4BtA98V\n",
       "T9WuF4p6ZIqr5od4E7NmGkQkNxm57h4VEaA1zANVQ19c+fppCJED8yfmRgXcvQb1XGup/PeHjKah\n",
       "vFRy9aBa3zvRZXQ4kWtgfFRStrMgI/8eeIsEqtfY+GHkZu+8K6GxHYyjZ/WRGumjc21KDhNigvjk\n",
       "m/UEVwV73H1keEyMWsOPcEKvdpBnz8iJL3AQkLsRVurf7v8dnSkXcsRHQ9zjFoKDwqgwRlMdb1Mv\n",
       "N8Xx4qi50JS+/BcpxxdSIPW05FtAGzOgFL6DvOJz+f6WIebavWXH4YQnhzlvFRq2EC3w1N8ffcXm\n",
       "f449GK9848/avB5th1k0ptu/E+XfC6syE3JrD9aw8gANSAAAAIMBn1BqQ38AEdrqw8pcZBpLauSM\n",
       "QAEzuXRvYaR37rJuuieX+//lueg0jStG/rHfaz7/8MhG6n1Ua4UJIqI6TPe9f4OV5r6fygMf6XuP\n",
       "TRqpja9aNF9rLfwtNIijwcN5gG1HFmKFaIJKn2UgERAzVWvm52sVNCl+MY6ra9W2u9y7QAALaAAA\n",
       "A5dBm1NJ4Q6JlMFEwR/+tSqAAykZlmMakMADoWVELEee2qZvEg+49zHY66Qx9yH2Qn7VDwFSomxL\n",
       "OmDBaz54CHO8oqShWgVIYDeUVpt4n7Fbz2LvrAIMqenV32jnT0yH+ZaBQX6aptcN/cYOemboR/Pe\n",
       "OlMHSlb4DpOzQGMIScfZ3+d9So4k7+byVzhOE5bbrnxPRUSRCyEZkmEqgdG6WPkYdhWZXK2GbeaV\n",
       "13/2mmUf+L09RCoJgJWjv9TuqhzeSyNvoI982TjkK5XZ+9oGpNlM1oERPhT0MWmNGkb4X8P/tQIX\n",
       "lt916xubwDmA0dcue/7pSIQ1gAKUQ1wRkVaUklrilHJ9oCzcP7bjximTTvFN8aPH3OPctHf5CoYV\n",
       "0eJYcMXkZBr2+i5UAKCo9RuDmm+wpqVau3DOBjTrAbkwi0CYwAvIhVN4TwW5DbxzLWOBFsY8g6nr\n",
       "A6RWPvIm5GTJKAmy0IseemL1cQYS7jH4KDs1/rZuHE6X4vStDf3fIFes7TF3t1HcT+RVojYXRQvU\n",
       "J9jfS+DQSKc549jf5FWk2o89tjnH12NfG++nsLhQmf8FJMoFiCoKAsUEN6wJuJ6Jj8EaUXBQ1p33\n",
       "iEeOP639k1qeBqHvKdGKwHII11YoW5EhK6jyCc5E45OFe8Y8SN5wEacNNL+rpRFSIRg5mfuBw12E\n",
       "y6wJdcquzJWsorNRar2oQVe2keEZibHktQ2Z7gyQofPR6Vlz6xTrXMJRZlQLI+ambpia/kCRbDsW\n",
       "ZXzWcmzvPGed6G6qixqoxrsn1x7uitkpthMhgiRnvuwmbvsn+vCKLWf4WUhZmWYwvvuifk9I13V3\n",
       "kv/YtaRDZPqvoBOkyxyNEQBkMcGBfPDPZ3emfPTyRCJstsdlAxqCWzjd4kb37Q6K8uANaAj+KE3Y\n",
       "w7a7eE2D/GpN85kIR4SSXrbxnEK93YxmxLyuNMtmS6vz8fPbHiqu2AuZzyv9G8XGVC+fb+X5nJ8F\n",
       "oB9AGxbf571w9eUutxVMfSKHLPdX6eMosnHTzFIGJUAfXRb0xg+u16FY9c1p+LPqmd4OGn+ZcRNy\n",
       "eW02wytsBpcl2Ja2OzCAyrzk6ASGMMPR2cVdBsRrailfPNmeGIVYpdWv+eVem8sGXFjGMKxrY+eY\n",
       "XQH8Efm8xTNJPggfBcoxiyM3J2JqJ9SiYGRci7x26mF+CVsDzWGDDIFHAomIxhPKpodS1EYV8KI6\n",
       "1GxL/PfwADAhAAAAjgGfcmpDfwARVpUSNIAPaRi3Oe9UH3Wg+a9cWgEzfe7I+LVG16W1OsiTH9ua\n",
       "D5pwxdRmRtKXUY+8jhQ111LSqIrqITcE8T1OzmxeH+9cLfM0Ann7vHbWMv+6RncsF8yu7zQCq94v\n",
       "a9J9iM0i6U25rVxpB+IbNkjESi9bXqN4xO3zFM7kuicxLZtBRTAAOmAAAAOKQZt1SeEPJlMFPBH/\n",
       "/rUqgAMo/okFHpFeAA3hYApVAi97h1lbjH7ybqYlUnXLZZP6RYVMceIOwyTn+fZCwx/irzEro0sh\n",
       "K5F+ErSvFCWfXIXYtHxkOg5LOf//tBWOKQiOm8wNlXW9I8IR2bNyLIDHqNVotEcIjNqHEWiV8c8T\n",
       "elss65U4edMpveAHqWa9Bd8ThVvLhg4LckXLMXujwH+85SP0CBz6T9dZST5FfaXxxulQiPWAYczN\n",
       "lxSLygkwIlX7DLA6UKCD3LNYUHbToQnRXlWAwpMcMQ/vvnANyfMV5oZHkwjo6ChdA1xMEgUcFu1E\n",
       "/v5JBjZafxtOdf7rRldYSvfVncAt0UdEv28qBjW3seSJBCzNwKArN8Bpt3tK27jZoHUBQkqV5FFw\n",
       "Ds55QgCjLW1yZEuxnr4+AKU1x61s3my9T2hv/y5QINZPyx29sNLwYAlBbDyRHVqeHjbM3clYC+0m\n",
       "IRRp9sxIJDcXGoAREt8Ji8oy4AD3xX+zULc4C2hUaGNyS3CjdvOtiY90+sGhaTlHeSV8YXdAzxKt\n",
       "jaZGDNpSNelhxy+SINSw+nT7axjsozaKyorPDPKD6bxyqrwIfZyXVI6aqiJLZwxoPdoqPxYAaGHL\n",
       "7GBySE0a7CJeXu502ttI7CpaNEbx6RWAqxxME+tY8QQUS/FrExi6AGQFhoQR5lvPak4HpYATtthk\n",
       "IvFoSDAZQLehEAVrdKPY5/4ZvW7lMrjICENTanEXdz1QVuDfOx9RQUpQR/3+QmyDwNjlz8Y++sHw\n",
       "aSeIjM4oK2G3abRxZU+llZB0YaKiIExHUfXsQlKE60mLppFzt3D9svJUwqw7EPiBib9mZoVB5qxZ\n",
       "gm3TvVFirua/nH5cwjmuHdCuFdR+KeW0saM+qzVHZrzIBVewGhyFDt91gfDY/U4/4Vz1DleIKbke\n",
       "F19gGTg8E746jy7+j598qhIWhEUqlNoVIgGswVpy/k+yh4uImFOYqVQu3yihczK4BrsOkCGj60K6\n",
       "RlmjJQ729oPhqaCLn1mvmoOg1fiwu9uw5VkCTSgPwpeHGCkj1agskrqbfeim9xh4nracFn+5owFE\n",
       "rE3sFl86GQUwIVyQV2unT2M7vMd8YSBN7Tu95YFFwBB96UzFytx3fYi3aXpaPnek/mkqk32Pp3aK\n",
       "D7XrvAGWiCZGJOTWUReLXSnStDDQGgUtAC/72pOF/CXSOpYYeANmAAAAcgGflGpDfwAREKtmBBkI\n",
       "lEDj8EgBJ5+V0OZd4evOpQcz6X2jtb7d8NyIRg0WElZ+WRg6GYvPTixR5qiNDXbSWIBtIU5djgjI\n",
       "9zINMdSDc+O9MhrgV6J/A8HRTZk2y9Iy2HW7518y24xVV6AaGzG3gAAKGQAABaBBm5lJ4Q8mUwII\n",
       "//61KoADPbbFgCpe3uZOebrgq2+gONLJYPm1boQbgdwB8fGaaOSyoMObQvQrQEMSsezYVVsGcLkL\n",
       "M+33weRx1vu3DHrq+hn76uTZp57bTHFPjg6h9ld5Bs5l/65cg/7YzXeP/K8PvE6/0i/ry4JWEmL+\n",
       "pxxq5QMYtxwtVLhMi9ADtzLlWbTEw179iPRt9QvtA2W/b32Gt02jerWtBuu+TKXDt99wtBFZBN4T\n",
       "cFo/mbaCB0pedLBegN1DxzezbncFZHQC+UWJWW0CCUw7mEPUARJ71eOYM4u4rigbbhUKyKsla/KI\n",
       "b10yON3Wp8mbO3F0Y9+yPoNL1FPJ/2RdAbDVTBER1aU4hB2NkueystUPEQbOvzAUyU9ZuN8w0zrZ\n",
       "w5u34bciIE/0P5wygmoj+OA/Uhhlte+2PTLEoRKJtv8IKTeLAdQyGX06B4LNwXGbjRWr6xICxdNs\n",
       "8FlznlyqXiSLfepjtFVH2Iguv7vUheZyWg+3SKcf5mwA8czFE3IddB4XD0kkcok+f5N6ZrlNNyfF\n",
       "okV//xjExII58fJHAfmNIdpY8NyabdWoG5yxUknw1/0baW1zTWRRfv9y3xTKGMgdSFH4cXrfI06C\n",
       "TxJ+cFez/5wXSccHrpUbZpkEQudqVEVOg0kUfFngUSIOK8u0EpedjLOA4z49W4bVgPKLkfWJyD7D\n",
       "jBJYMEsWnVeueI07H8fym12YkMrv4o7RvWhoMPdgaIk6nYl+/VafVmvqpX1RvW5xI4BSjC51ejJv\n",
       "P3tmzfJoQgMYnYMyQF2PN0hpV2D4gL2F+Icj++ZP83BKKrZzEKYRwS+1wAuwypeOl/IIJF1yJhU8\n",
       "kv0eQaR10YMmKTbBDuvRe2xgdu/5jduhLWMoZgSV7BRh9XLEf7a6by8rFgg61yA8zoRZfivQtwfD\n",
       "RgXkb2I3h1JfM+AXI1ElrdW8bSJIQ+erQm4HX+8fs3BhLqNGizneViBQrSw66QfX1he2ZNvODeAJ\n",
       "lBwQIpwPRt9CDzBfVgRKCtN7nWN1z38pSVvEca1+9jFZszKuwfT+BIX4M/rT2D0mwA2hvzVNKwQt\n",
       "l8/hHIr0bu476BSEQrU5ZXo1X+3xSTM3YH6Cmzko6nkRNZ1dAA3KuJCEru2D/AefmsulSwdf6g0H\n",
       "57rc2A70emy4P8TSwVhtGwsuA3ErFe1rSipmyjkLVrCC1OjSbpRKqBFH3IF3axqG9tcv6jzeaDVw\n",
       "XO86AsSt1c91kIy0vCIBwkQc5ReNJtVoZF1pmRHL4Qn0dgVbmp/jse54nPo+G3yP9Ps/VHLLxbxS\n",
       "WuPyn6h2DLK3imWY/9wC6bqa7X6bkYHiDEHMqoCM0lIFAnc6oUnE5UjGxyJTsrmScYxofJx93sJL\n",
       "PFTq1Fj3NUVfVxNH9A4BE2hpMBGemtiWMLkgBVNzcwa2+P9DSolaty4FWOOwJZRDOFxPAEUkZLkX\n",
       "ZZBb0drCQUHhfAjbJpxY5ieLDExaC1tR3zutLIeAQptTgvxSuCTGWiIEz7GLBnfwu8k51tIJ+hdi\n",
       "pcgwXlPwE/pKtBgUCtFt9As2oMUFGmOt/xZhoYulqvEKjc0DyCQqXJg5DOFvGoh38kzbdNTlprpB\n",
       "3/qkI/siDjexDawHxN+BirOAcsDpmHwtlToCUDaNzE2h11txYved/dhXjxGcnL7qDxtmqhBouKAq\n",
       "u6XSSo5P/jvQkxw8wqZlMRXTcUQgyoBweuFBJ9ui5i38Re6la9kB7qxanaobgL0Jiqe2M8oeR0IH\n",
       "lnc/ISLNrWnrxS4RW24HghCegspz768VXnIiNjk6Fj/pQ5EHmVhZn1tHO6jaHG0Tr5jXH+tYegGQ\n",
       "oqV3a9gLa583PgbXiWdDXbyuYh6r29PIuYF1Z6NZOag94+63t5wFhWZAjS1SoJvd62hrqWEnA/o1\n",
       "mDAAHHAAAADqQZ+3RRE8P/8ACOwanl/a9ABBEjoVd1SMuO5F3TXbqCx6bagLzYkqz9sX56eM7tci\n",
       "pzXkl05UqIg9qpSDtlWYrw5TE8g69gFEHeS0FplucTynHa45nLE+5wKvtwIXKzVRm9z7KqQssHAQ\n",
       "+58XkMA+ajQudIuaTasHgfvQbHoBcfut9Jrxuopq2svQRruoXhQbGlxI10CKIZrDf9Se6+Vde995\n",
       "4Kig6RlIOFB5xf2YAWJqs8CJYKcNX2bSK5VfywdZhDqNAOrYn6uS550+oY5hTa06FUARkzUakeCl\n",
       "6DmspQOWmPqwAcTva9/hAAAApAGf1nRDfwAREKwLSwGO8OWepiwAlxm/VaWPDf+kk/FhO5yDBKlt\n",
       "QUct3b9h/NMqPK8OzqI9tUYqV2LON5ZopJI/zsaBqJ8pd0SRzLX/Fp341UsM/SLLWrlj1ZLyvyCK\n",
       "K9Z4VgK72rqZL/UYJBsMfUS8hJYB2rfIaUWAp7gvSp9nSQoVgBUoZfPCcEcQ/QerOnS2Y9/2Erqs\n",
       "GUlMbnAAHOQ/l7aBAAAAeAGf2GpDfwAR2u9jVYmAAl+67UHfY5GKHW3dvF5onH3P0T6ooszrxQeJ\n",
       "XIJMxIKxrIqfCKY2xkpCcQjGL/HEyN/N+B+LW56gVesgHSluZtTgPZnnauoC0vrPS+F2uy3uQ/D6\n",
       "ce+TxrirxSrZp/J6KerUgBCjz8NDwAAAAfFBm9pJqEFomUwII//+tSqAAyj4D/5RcQAFwjd5lpkP\n",
       "7FE9DIDmz7oU+Y0h6RAFMb/XM4YdeCfRNvMkr7wrXkShEr6iH/1zoC6zpqZyajRLEr77aLkLy86I\n",
       "TznTfnTmibMdqlFBjnQ2oh2yRanzAedHbTsJ5wInqWhe3TlcrPRG9K8CkNM7S0LGsAJsCSesAcYG\n",
       "lofd5ZhZHulVnADajkhbS6IrKClHmwoVFiohGt37t9/GYiwyEETVL+sSlvhQfAKBaWpm4NxrhslN\n",
       "vreRa9HyJn20uLs3dGP2NDLDmVWv0ObYfmxdfGPHdMH4CtPglEqMpq9+5tjjx8o9LlByeU3Agxhv\n",
       "GJM+NqbgZKIGAKEh/C3OKf6IMUp5mTtcoklgc4ezn7h6kLSwVl/pa56RpbOPnUD9NITqWvsfWAXi\n",
       "EmkWaTnyczbwneM/ToF1PrQnzad2hnvEO2xVKi3y5DwtOxmrn29Ztit/lwAk8ByvH89rw31YIwfv\n",
       "s+GV0ckJNLrJPLj+aFoyrOoju99TQXEUW9l8QHLIVxXQaL7hh1V/sKbG5xjFm/wG48INcZ6WkNzr\n",
       "GVThZJ5acBLdrZUXWHkLcW1DY+ETZIdHglT/acH6l4+5vFRAhMWL9dDuuyG07G7ElNAtur1Zv967\n",
       "9y+T3R2+5AATcQAABgNBm/5J4QpSZTAgj//+tSqAAynV8BzAAtWOZIbSESKRpjJrL20QJkuayvpI\n",
       "FCZWCj66MwG/A4kIP2s8/hzKmh0yFIEa+/nt6upzJPAuspKUmDOzj9X4wfhgZ58vN80rNKxWthdR\n",
       "1jLs8W/4ha5YJNFA4hD1at8to32GAwW6d7w56Aoo8RJK8DWsUiVPgxDuh1RCNaqaZbj30Yq0Zf8e\n",
       "fLLniuJlfCnA5ljnsd+PbOTNhBbA3FYNtT/7jqOiQ9XhyBip1fHZvJPs2RnKNtQHkw9qsEwsF5s6\n",
       "XITr4bMENRRYdtEgUss2ceR0rwAufukXozbhXyKFPbIYKtMnj3t6i2kzHJI3jOwS8I1OYh3DaecL\n",
       "NMHJxbe40CVpKhCBlfsbmxbwShL41yKFXvk5Qgi3/g/szcSaRRXw34ND1k9CAhBZH7NCa1BZSy60\n",
       "pts3Wlwi5D6P/z0M+B62HUXV1CZpX21/FF0YCJJfSlr/Q+fSHzMVCVvvifZP3YSlnibG4nIAV5W+\n",
       "ShbB3nBT2xg4Yn6Mi0QDhkxXFE6HuIQxmUqkPaOaG9qBIcDlYUFsEA8oqMhC9fnrev2FwFnUD79F\n",
       "mRiS900dcg7/QJQnbz6tSX4GXn3oRNzm/4n4exOOa+mXzVkLvFJBYesgNKyng6TJxo3LJA/6ntCv\n",
       "1BTPAgsZ13hL+rPOTitGDl/VNcJoSlZhEUVj3233k5UEC892Myg3XNfmHICRPoI35w92zo/sOIC0\n",
       "p8yRuRQpC4NYHf4C33kWfx2Sl/Oluz9IKnPqAEm5p/o+0O0vvuZ6I7UI04hIPiJWpjFwBJK2zvxJ\n",
       "C071/TmUmGGhSxhY4zlbpIOwPqMk8lJ6BowJVBMd4unjFhVpO4MsCbw8NFtc2Dost5zy3vzKAa9D\n",
       "K1rcXeqIWpv9GEmFaoP90tDdqZoJa4dVYTQOf3kfa7P9Ie0mx6KZ5Pg3VSHkflosjQUgUa5UDVXx\n",
       "Otse17iNjQZqp2kOBLzAFANGSSAps2R+KUAbKW6yE9YxjFqLyD35gKMgLvZZelpZSmOQ22qSOITD\n",
       "41HwkQjYneP26qMIVjC3si8p4o/8fBe0CA+c8Paq3B9qry7yac2hE0SHpdpm7/HXW4w3akF+vI7q\n",
       "SNQMA8UPpio4GODLnm5qtrXQd4b/rRlGPyTkeT6NsN18YRli3dIkWGOXWK3KwxWp0jNsYJjDqubJ\n",
       "2SkpHJ6ECHJy9cH1XgDcztKzxIhW0QN1MuF+QA54qEpwLGijSGcbGygkXGql/UqYikPeJHbvUVz4\n",
       "FlkZKS00E9T6rJ+wrmR8u0H6yOZSNW/H6arytJX/I6TyxwBjLsmpRC0Ohjrr6TEMvvCElueqxGcx\n",
       "6uKYDP4XVAkd7Nl7vAUNBhLIXE8X0kYtkwNahTY8B4VXfro4T7phtky1YTsecKxNFDrcMBk/5WTH\n",
       "hMoXdzMBBKhlWPB7OXOl450NscfyqXSVP/9+Wx3A/uq60CqMqoJnNtKXwHQkor2//L0dt9P9Tju8\n",
       "7lidJTFb31YyEQz18tLyTic3PRKyGfIdw6ETMfhrmKf9mVAUFUdPdleICBELevLfSSJP3TbveoCC\n",
       "7P65W9TQPRG6G5g3vJgEuB/ibj8GXJMZbh08rioyEFoHTf1KWXUon3U/GEXcNzMasEdgZrz/dgyZ\n",
       "oVTwTh8tJt4OS29rn6voFSxZM2BkQu5yR3ab4YbTmcqCAn2kcomFA8CZTub8zEVTVr7ljcMb8Hu+\n",
       "2Qn+hCFBL0zFT5okKsi/UcBbeaYTKQXDe3L5OtlMS770sAiPBClTtpbMYFBhjpACFL/v5ypXr1Qc\n",
       "Tey8hCXdUy4vJuwrzWmn7ebL0qxXz+k1LTZLVDEFEgpJt4WpnI5+1peNkobHC+zF12XJIs0elLIx\n",
       "AcOGg3Va/jr9+GjL35Z2X7kvKiGggDuww6ev9AZiS8XkRvaMBua3+JRNRfFHaBue8sr62ZFZtlSd\n",
       "noKxdyOVjuHFKkb/HB3kbrE1Bggg6I2U6mi7we4yR6W6S2CMIsUi09AfjZaSDs3zlWyWnHvicMYv\n",
       "mHPt0DE7GSY7mTFAAQMAAACpQZ4cRTRMP/8ACIkxMETvh/RoAIQE3nz7/M/1cBTx0I/7XhCABUg8\n",
       "xnCosRpIIPdD91R/2Jl37RAaFu0ixzd3dv1E6Xvf/BTFuABYeBC+c+qNDQjmyUGj6YqChFuyCBl/\n",
       "Uo1rheI+AJMMtRAHTm3dOKHrlpPx8O/jG1moNCwKDGywIzEWvlVHGnz9kEkNPu4tZHHUvswWfGt6\n",
       "8Mp7HI1Lhys+7AAkRv6+bwAAAKwBnjt0Q38AEW2LACZa5Zi1hHESYrKsQ0Tzo9z+q5TSxDaFyc4d\n",
       "H7bR/jOBhNa6dXG3VLolsjvLXCCAch3TxqUfuVAJ3O6Zfjqd9iq+Sv3b15mob9oBRQVRycJCl0Rp\n",
       "CtE9Ht+Z9HikuLHfUAzVF1IyjwGcbRr9c3LBB8zj4T9oxBht9qEGPR4DPava6Fu3R0xX9vxJV9Fh\n",
       "uBIpCHFZ9YdODxyQGBygAHc8P29xAAAAjgGePWpDfwAREnJVJqoyifoSAEl9YwEwHL3hUbFi2qJB\n",
       "dU+8drbKgfsLr7edTMMJHKmqHOE3HnJLrpk78CYTCBQEBSkZIFvW6Ehke3YQEvgGIRgj8dk4GG4Y\n",
       "7nXzG8nc6A+xFCfTLdH0Gca0rKtSvjzpUTj3Sz2h0nAkpL1Qr5PuiSM+aC2nsriAs9t9uxoAAAIz\n",
       "QZo/SahBaJlMCCX//rUqgAMqV1o08RQAMnjQtaX7wPsxZhnYKACY/Lkj9iPmlSnVmMPKqlPWOINo\n",
       "hYqkE7Lah4n75+sT56BHX0dGUGcy/Ah1uo/P3Jf/+/4ItUnGfr+KgmNqQ0YTNO8tgcl09L25hwT4\n",
       "82DtZkv+c1AgaoTflQAAwgPZXIDS1MENEKt43kmDHplioMhyhmB+mIQI0H1y7y5X8+tTgpaGqPUT\n",
       "cr6o7MhxO5pFNwdM7O91ghMNqeAKEge6ejs5MS/BLC0NUAL6kn8s2A7xhHZ+C7VJqp3KlEeNAd15\n",
       "p/6/f57IQlD8m30LwqLDLh39cLozhctlWhZxwEofwyiWQek14Pru54PFgc5AStJitBbROUqw9eR5\n",
       "bIH//Dy7eBsFun8zr81rmMuk4HSWYkzp+r0aRfs/CrH9Y8yYjyMlNLViOuOMjDEAgbElI88YDZ6F\n",
       "dg0iO0XV9Eeo+uAzyZseb34edWvIbtSfRG/aVj0xpIl6fJGK2jreKEFideRzgIq/RzY6JFrWmCvc\n",
       "sr6H67apAqQcOhOjSQThcmP+FrQOSHTyWqIs+5XUG9xyrNDvUKpgVrRyRNOBqAxeuTtoxuKM4WjW\n",
       "lNo9dYWRTfJvHXFYEVy+xneArwsYtj8sMSnAN2a3T3mJJpY584SYcjf4U8mInTjPPreMZ9+axWYk\n",
       "FrxJIp8JzzknqJBJfJQg0sh/ytFDY999JLKr6SE03OFs3W1uMKuMFYnpwypNlKkAFtAAAAWqQZpD\n",
       "SeEKUmUwII///rUqgAM9tsWAIfX6e3+4yk232Y367tLNcuTB/ABMOIiWhVy49qYKTOU5M+++wB0A\n",
       "2LVavhz81Hrx7e/8uXwGRQJdS9zATizG/90xifs+L6t1LC8SGZBm93pzWFySRs8vAH1AgwMUtT0f\n",
       "TlXzTckGnF5NoTb3L8tJ9oeeow2nk3prLuTFEBrDqWfw05ru6x2jdm6+2YrJUY5WBzMzNnsRxo14\n",
       "jO3vcLjOYS6k9cB4GjFt5975qXHC9ls429l3NiXAdE8e2OYYedHCnEKXBaz485hT2tlEEsPQK+DA\n",
       "9Y805fLW0pVkkgLW9cKHmfXecNlOYiATpmtD0gbW6wW4dhfZhSyIBQANfmc3Bts7zy85MNrLx2Vp\n",
       "xA8JVsbTHnj36CokVAalLwcTSlKCbahhn3mgwMn3jpiqPqaXDs9sYOyakfDf5LArqKEBAXEOQQnX\n",
       "zWjurPGlm4jnlKvUiA2aLk1DKqqvvqcGLrpo9qoV8pVJGfpztrf0PD0WX/K2AKY3klNq9vvdsS+x\n",
       "whPfXJpqdpLnAuU7tmF9iRGmf0AzfUc0nejzcOcRF7GFHQFGyqw3fT42uSxEu/SNIqIqTjLq24DI\n",
       "WPyqIUsuFDLxyV5TAwulIfK10Dnj18f38PDNBrT6ijjZbTvTdlepMndxiZ7z3+cRUnIb+eTa1rDx\n",
       "RmKXH1rdTqhKJDoFKo3bVu9HdFx+xNOcVpuT3NDDEeTsJrm3fk4E4LcPRp886I6gHPWSYgzR0rbW\n",
       "kfLoenU7lp7w4mVlTCAKyuHx8D5Y2A7fPgoOKB2KFKHjQ3+KwxN/TBq5d0Ix14qyttKoO9gAZlPS\n",
       "WuOe6nXnSt1OtAlyOWqIKVLZ9K77RXz7jD2pwco0R0V175f8Zu2lTvlJm2MnPe3uJujoQYHukYP/\n",
       "ST16ID1jc4zzx6IEZHE9DxsMwsp4k4nRZDWlDqGPOLw+cwCtcE8W/CKH/ad+2J9pWHolfUqYFq2Q\n",
       "XX7QnHqKnmn5v4s+hpCy4gpvJZGgk3Nay6zmMpKvQ/ccAbkHOwMFcqKKJVlIXPwJWxA7aJQg6+Ow\n",
       "wQIUH9ZN7tUkBW5mLiMrfgoUriBcrQVS3sq1kPGzi0ZO9ZU+LwM6JtgbuibOf+MyAf3jzCLqpbmQ\n",
       "iLqi7si2Unk+3xZz7BjfBnh45ERaDs2EqyJKGYu4o/JAhteqv9j+Xwy9/neb6iWxLZq3LX1mk1+X\n",
       "hLDrwEH4FhX334iVnzfJhAFr5f9R0NtaM2pm7YnuEQQhnF5h4rBVtfmJXD7NkPGgZH0WeaZDo2cK\n",
       "6deH5eN2bdYVWjGy/lq2TxDH0yy/axX8nFN9VHcavD1ycTc7NWnKlRGmdDBOZ1LgxYp1xktqDaR9\n",
       "4pKrlG5EYFzlxzuiwbIJXLREuadNn31ZXZOJIUFFUu9/4jVnFxvui/wDuzmfN+eEQq1qnjnSTuP+\n",
       "rtrolF2UkBwNWsaDV4H7TF2oTc6waGSNjE7zmoydyWAnsWveIM1jzQaQD9YXdQ4TEXioXp/NKvov\n",
       "VX+LLHvvO64L8Z7MxA8OObhaZis6qqNLWCKpRhdkMQz5bi3HigfJTB07E3Cgxtp1V7bgwbmUdEnw\n",
       "wuy7v36oHBcLdYwGVvSyx8RtlITRyxvsc50wzFfmJgrk6C6z2hjPCgpWmI1AG+6QxHlCJfXeB6Mm\n",
       "vUV7RRLztWNlLFHn320nZ65B4ni6YgB3Xg7vyJz2HvXp7Ynt6k9oUnW1kMfzAfnqyLfdf7PUrQxL\n",
       "jrZHi+5VK7stBcMi511CjzgdqYPfsQkn/EWoy1khclMjr/HheQcuFxS/w1lUkMLEgpJhvB5t+sRr\n",
       "mQsxsJjbdUF3QeJ5NQCSlHmJT0OhhW/ijIP8RjCgO4Llvsv1lPOuzTrPnabb7JMddSbr4ubvKsvr\n",
       "fVuxTgZtRY0weIcg6TGBNwYTc0gD/QAAALNBnmFFNEw//wAI7BkgCws22ng1RSIgBADiA06DZkA2\n",
       "L318pNyBogWoMKjhE+JGD+jcnWBj4zLR65a981CWauiKE3jIS7ppgjkpDZs4aQvn/3ha3H3ORnmh\n",
       "iRtubIJBSxMfnBCXIXVKwqXtstbXw8pV1GtWaaP5tC2sxoqj0CPLzE9xq9IDjSWVIj0/g0Ei/+up\n",
       "W1NkJJMq07zy5O2PTZ/t1xKZMZHvyHImwm1Z9uAubvb6DgAAAK0BnoB0Q38AEW2LACXKNJdiDJ5/\n",
       "xf5xjANexPyCRCdzzQaC4UdeC8yZyrYcBB6gHgaisLbmm6ryKeBuhNQ+ghmIlBWmS8SHBmpOSj6u\n",
       "plVNX08KrKIlQO/hi+c0xwHOshIFILaZKeC7krbp1NyBZNlPpVt6Fwgqm2r/GjX4ca6ZHvv4IEj2\n",
       "3v9oK/a0roTHXnc5XEzzdRGQ3/42HMFmCW1sf2lQnHzCTAKqf/t3zQAAAJIBnoJqQ38AEdi4ZseA\n",
       "8D2ADvnVzm1XpHBf/ZgY+eUT4JYhUQcw1T2vlpfTFJfv2x9CxTCngujxSbuus+YDXq6Q0Ec5Gpvj\n",
       "sK17yw2b+EO9aI6Aaajc0FkQpIHybMpHrQibn1W2yp6G1nhwhivZzIMcCrK8kfZyR9+SIliQBQIi\n",
       "cwLbap5ZtDzIxIpWLILnTfL1MAAABKdBmoZJqEFomUwII//+tSqAAyk8ZxAAavFA+9VFdHdSYaaz\n",
       "4MCLq/WvzvtHzDvEtUxLfQs6gf3LbN71j46d2w57J8YsdGDz7za5488NAWipWAjc0e7FSBEJqPlX\n",
       "oq1bdSzAV8gGMC9TNiAZFTsIh7k1BYDaXVWcrdMzDPVJP9tVSb6tVwjuMJqjhjtWT6strEeK8mxj\n",
       "pddypbhzK9BRW5nzU5/eD0WM6P34F4hrgvhNmqHvGhzp6D0REfKxLK5xqHKR12JEoIjEnWox5wyH\n",
       "N3y8Hffy9ssQPBfOHiw0+Qpyo8KNiCMWrOCLIK+i+HIA1DZGK4EUPHZXVgZkYcX/hqhlIG7Vf/6/\n",
       "CLoqQZ+Dah2gCRHCkBanTe55uN/9nZScEDjf3OCl22VrEVLj6pj8bPDpns3MnD+LQWj3I+xfpyrp\n",
       "RUtP0L2JzNevuAQPvCraJultIuZSnebIfaq3s4yWrSkHktA84LzkBrQ6hFvbTVrKzX1cqThv5zfW\n",
       "EA+kGOVAzupMeDLicfVUnQwL58stQHf0MEenYRhl/MQu7hZ8XpmSOeman3JFqAJE1qNS/l2WTmVh\n",
       "4cHlYOp8Iu9nPnNfZdwidiVpUMLT4YaoxhWyRcH0ELON7JZWX7PzRs9M8UJruFnqd9bQaeC2g7fJ\n",
       "8hMuFIv08DHzr1Q50rin8TSyfKsKrT+UbWu5dl7QCQCYIoSi/C3V5lPNcpx3X2B6FOJbIsLGiTGW\n",
       "xIi6IXl5b2yWdedTV0uw7Uk7U/H88dhs2Cv1p5gmIJ3rahNoE/pTrSral22PzCGr2sG7ZPBYLUxK\n",
       "wXsvmFbTm3zX7GeVy0dS0QI6B8TZzA92s0ioumfk3QGQPdjgPxqZYm0eaI8oakSq1ap0zulncJg9\n",
       "kHd4SuDciXgn5iwEK/ViFqeXO/vUbgBkmRoJktIqz7sZlbUkniSMoM6KvsBP9Vtn5PJpBVN44HDJ\n",
       "XnqlPa7kDnK0eKQIKm92H/jTMymlxKBzfQrXyXMWwK1zIr6xIacVTfFgqb5RWQXHsoIS0ZQF+AMe\n",
       "rIOieP4u8chSQqiA5qeySGZJvk4HRnthgJtwwjAWIMm9MfBYg+q6616THvaleMzOmmKgLyeZ+dOB\n",
       "9YtwWiq9WEmIgPUfh1Tkyy26Wy5UHBcLFBs+c98FRr2B28UYqO83jmzMP/sZx66StJSquK7OdgZQ\n",
       "2BsTqau0AjKoPmHOExzR8ZOTw+Qf4f0UpSuXbzVappGJrrtR3A8V7r6X7v4fz3TgOVavPcxln93y\n",
       "MKaLg/yFufw5GWakjFTc3IezcgTAzX6rfvOI22jG/Jp1JdA71ryi//nM+YyiGRsPxowu3QKIEgA6\n",
       "4ncD/4Gc+mOIxrUj/WU4xjUNqXRFAneRDbdQ/XSyT0yjBS2LwkKiCR8wiHPRsFR/VjX2aaUgWL7k\n",
       "CYk2+VpA5aWsaHb4CT8YaVVA4x5rcPRABZylh15OBklda/edh4EU1JjmAhC5VAtVKR4eNvpG/7tz\n",
       "05p/XKUDIHGPrZfBzAOLlKkgWpDr0ty37jWkM2A10gAuuq7HVaMdSbiRVq9EoVmZO1Q4xcfbYMN1\n",
       "JoQ4LS+fmEYHx8MIs8s5yLkAAACdQZ6kRREsO/8ADC9aq6b2zACXEFs6HWjrKIUeasyU5T1OBb41\n",
       "jGaVCcwQ8QsZpbCylk9qFffOvkaI6XvqHaazOauvinLaGywAGERbjQ9ODVOwYNhq3zCGc/FAObiY\n",
       "o42rS/AjyBnZYW6ZLifKVGpsOURxuC2hPA9YBeJnRpykrgbBnT28foSjkjCTRKUb5i6o11Q+quQl\n",
       "qAb90fL70QAAAKEBnsVqQ38AEVxzoJlwAlwnHNr7Zu/JuYvBZbB705xyls32Ck1esLOF9zLSbJ5F\n",
       "wdV+S28otJFyd7gc9C6ja7g4Tgy2Sqe79eHeyfxeJf3ZNzR6nv4miHXadAsFekv/v8ug+yHV6sQo\n",
       "5l+MxHKLVRkCoNEeU2S8yetoZ5vxSxIIjqOlXjzuY2A5vRdDUHCSn6UKergc24Yyxen9eaGNdqhe\n",
       "QQAAA4NBmshJqEFsmUwUTBH//rUqgAMp9EDG4AQmBi4uX9YhdgR08b56lukJEGD8z6/VVtjXl5Kd\n",
       "IvKuGIRIyoCcoh+bGllPWTeMGL6oenbq+ce0He+najEUDEaM/+RxBrF/NsTeK+XqfGWjoFIF0QoJ\n",
       "gBfS+ePOxJDL6EraQjwlfZIWWKy/r68Vv0ulpWoxVDMMc4+KuydeVVHm+nk3l+ubRR+L9LdGPBxJ\n",
       "FY7ekcAswWGPZS+fabibb8TBwTdsItP11925D9CQZfUOlvE5akBZVIoi2Kk0fjaJ6vpwPE5wi96C\n",
       "5OVzMjxKGJQNqfL1qtH/BDc0PH2ux6+G69IYi36EmygcErjs+eKOCVzDO93bEcbeaHA2ebahGcPj\n",
       "btRjmcdUyEr22iB1Ev64/7RhZ+nr5On4nNRSTaFam8toUud3fK9ObmcdrqCoMO/SVGbx7Ek0l2/8\n",
       "OkU3Vg4WjUzppIZ7WqP+WSqW9wQ/sv3Tjg9or0ZrTaxK6gm3Ks7u0XLoIoYgbe1u4o5TYf3PJyrJ\n",
       "KGtPILHnDXI0wC+zK5LHZ94G5kC/wYE8JMYlom7qF/iDjjXf8ZY7mefX8SbaSC+v8L3DEsN0vCS+\n",
       "GT/achmHVuUUF70uJmfZUdYe2HzgGm9deiWtdsMiu0cvQVdhjCKbAonPL6CSGw1GyUDhDES4PMNb\n",
       "u9x5v+Rxxka7goe8xAASvnkyrRdLNKEntg/D7wCdxN/n813LKWXlvESk7X91nbgWzu4AME6VhQOi\n",
       "ekS40i5SGsEv9n4eVVNalfvwzK57ccjfLtrMGM9jYtSQBW4yJiE9i8z6EUxDh9+5o5tw7a5HM45d\n",
       "Ov8697Q5gHNxCMSdfcPUnBD2BDVJD0TbHfHLVQWowqtebmYMJIqQcjIHWw7t3xja4KK42DSaIK77\n",
       "b8Mv1CAQd6Cwewm9V//0kca8KQpUhbIcOALvx4L7aAec9t18gCAKmm2n2TSVVq3sh9z1fOeULMR8\n",
       "xV3Dv3UDOQXT+9kyBZL1t4M+lZcaxIrlXBCMMsp3aBzJVxFw67LR72AnGCvZMaAcEO+qNe9+Cl3i\n",
       "+nDABAH0yyFfGXCyILkmT4kzYv1FddxImTtgPVUFhjLcT0UlhVNdE49RBLrmAlexM+0r0UEZnTAG\n",
       "+A6BIe4lltdQbHLuBhLlAjtfA+nn4S1r8YlDFzAEgB7Q00WOwiQtgYsXDwIOP0RakQAAAJQBnudq\n",
       "Q38AETzmutpAB7/J6eajIPph0BDAyMBEvQcuUUdNnBTaK+o0Rbd31jV+IjyE9K2Vrl9a7uQeCoZl\n",
       "BoH/fWeGzEeQyTN0USDddrub14R8vQfLodb7JlRxHZmfgH87U3Uv41Lm8pj4/4xE0OX5T4cxmNRv\n",
       "AB8td2cL+ngxmgIM3kc3uqTCuDHXEvekz8Ju9xdcAAAETUGa7EnhClJlMCCP//61KoADPQxquuJD\n",
       "ADWXdxXWZrk57U+RXceTGMu9VWAeXNlWGhj5DEffsbpceAJboTuRjSCqOhMMb4y+HQ2OUT3/Cjh0\n",
       "K6/7yffVeH0SrOuDdlzNeWd+bYKp0x17AnM4171vXp8It9DNBzD8dNU+UgVOknPN7TTGFm+fn3qd\n",
       "RfgtDpm++nxMyCnOPIA6jfRyJ730L/i9mCWqT4ab+b/DHInf/AROaIh2xUkLeDqmxGfy380phg8U\n",
       "0xqqVQgOG4V3TqFy4dYL/y7vFu6GsC5u3OeJWqidwMP98FjhLSf0nis5Jcuw3jcCejhM4y/JYytm\n",
       "NgPQggYt3pnwIkGnqA0x6/AWv0rHjcnFGxBVnOeZj6As7V+PCKRkzKgqBcHcJaDdvD3QAa6XTmr3\n",
       "HeKQB+C+GtLz070BDkAwdcYfbEIm9UDH9qgCqqhUM2uWUcn4BB2jiXDwqj2iPCrW/9koRtWN/He9\n",
       "6yZ7/lS6cX+AhBZrwVvpsSCjSFB0vc54SdvuX0JcyqvhDgXeUan8Q5wgDgNExdf+iaZydmBT95VR\n",
       "ioF0JT2IRRJ9tM6hjXgNRlyxAVMJpoPNg4E50V/CRS5B+P4bRVHqcPYujP2c7ts25vzWphove58X\n",
       "9XvdHpzOfxQPMdYuK3CuFlXUHwYtb5XHVBE0K994gctacfXuZFk5lYEg927q2hb/BKfcAeWZMRUp\n",
       "AcmgyAtuoHzSyK6sMkTtSCaCXAUlnhxSpqFA/dDPyRxcfSnNeD4m8q8q0usQKf7rBRvEu+ZtSjgg\n",
       "UoQy3zDE1Gwv+WhzKNYA/r7FKK/EDG8iGpAY1JIX+9VK+LtHXi4yZLh1wpYDCLSLdF7wPGt5n0dd\n",
       "ET0HrcFlbJWK2f6lyVdwZTp4Bgrpf/iEXJAVUqm31DOMLCFKJjVWXcyrJdA+Y9g6/DOcsfaqZKBA\n",
       "zJJ5Y0OLiQBwMJaW95eot/x/c44mLzpQzEokbge+aNa/prVBPr3pMNuRqMOr1/ZXOjU4cnjLsCzw\n",
       "7t1CIojPtQAjkWCrJAy//gTF6L+M4HVRswu+lRUXPUJZv/n/lH5HmDUHARol+vSREyq+bN81QIPv\n",
       "zKpdLHu8ZhAlFisUOhpz7CacTYPfyVYc3yyejFjBgt1OOo82zpeTgbbWyKOW8BwvEUP78lsMGIeS\n",
       "qwBWX2x5rpy1n/GQW7OMLib1pNX7EVihic/IXBAB8jBmtxWMIvhSu3CIsZI6hecPQIhhCiMso3CD\n",
       "RNel25PcvY2AH/onNIG2fTF3X2+FRm3ovpiLKucGrRrA/FrdB/7qq0FG09sqfIflqnulg7Ll1AGS\n",
       "Fk2xKUvG4/LRO8oOn2aG/zDjF+9WQ8NrjthoRTT0z1SKeJo+v3ehC63TdDHtUINMUHtGk5o8z2Lr\n",
       "v7UaVcPzFGZatQUtQdXSgC6CZpwvJmYSa441Y42zCRipV0+CaULkyohFyCTzv4uU4TxVQAAAALxB\n",
       "nwpFNEw//wAI60FxgJy5XQB6sAGzNweYO+Q7ueqggCaKMyS0d1jf0pbriynhRdKgDi/fgLqNrtr2\n",
       "cGianfBN/ffUhlmSwAi64EuhXxJFL8aMOGxL29njDO1YIhHvxP1JQRdjUMXSFEDD16brAk1O0XAl\n",
       "gk82Ky3TF0bZKc9Ctb9M69ox3Ug1xJRy5MkCkA+/oBVXH2D3h/pvgr7iMxLgqSTo2GW1rbO/4IuA\n",
       "3TfuBWPQQDucfJClDC73oQAAAJYBnyl0Q38AEduxh1TZk/7+SRBAAJoJ+Lj2OWlFOpr0jeH4g5Bv\n",
       "ty6RNVDb2q63ryvjWLHHTbvLJfBCpbc2B/Ip+dC4bLsBEusJDIVPcwcAA6kFfNusCX9TGj/ByDmE\n",
       "LWTKvKVj6MBmYv2lpr8TrGY9oYpRkprBpac33KLvRlfxxmmQjR1H6ESAIj1KOa03+gK/Xn5fP/gA\n",
       "AACMAZ8rakN/ABFXmlpAB+civ2grXlb8zhPOm8hVL+Ytzk4bmMWl2gP10dozk4Tha+qmJhWP7aFs\n",
       "6ZMyaD3I059xeoYm1EF3TCE+zV+i5Odqiri0jR967qNFN9SYf+mDzhiM15eO/hPaEE7cx8lH1mwt\n",
       "xZa1yaXNmiYnlTmAh2+i8S3TiRiY/WP124ck8cAAAAGCQZswSahBaJlMCH///qmWABioYofABn3C\n",
       "Y6kKheRTQjHz7CG6cbOiPh6J7mef4CEw+ZtWbNf7iy0cVgYwpcf2DHQiS2pDcVo8VQR5L6RASu1P\n",
       "6/ZguPp38NRHd8cAKyN14NFhxzYY76/gVYI8bYl+roXa+STvIEWwK4ACedT0XGRbG0A7qDM1GPPL\n",
       "+Q8bLgn0FBDlFD7NKehvErWTF549Y9c1x+RTgpQB+nhg3AdYodLQX65MNBWKhoV/L5pU/8+tMAoD\n",
       "+nqaan4toErvy4v1XLeXM4JrMlUDEsLPwj9xvyBVFulL7CdxuRDh0USsflZII+//YJRAoKB/rOtw\n",
       "y+kanF2dDZqvgCZpevhm4qrbTqOLa1eANK1LrF9xpeUZ9pdFNqAAfdjSnE3wQbo1zNjxslIvcC47\n",
       "ANxHPK3gdPBCPgluQmibkp9GTfMfnsHtsH6WLsuYJELXtnwOIqC0MJAZ3mQgnNXKl4HNN8xCAS7J\n",
       "s20wkL7SyQoCQZ+u+ALipwZpU4EAAACPQZ9ORREsP/8ACIyChBnERidFjABCQGlZhlF0cBhAoWa8\n",
       "vrRbihyu38fNp05YSNSZ51xAdnOVOcD/PRNBg2TYZmRdvl3hkiJgjcFstR/yoIZR1OgLB88+/x/L\n",
       "EXwYwW6ylrSW/PFU6SOejiP9yWRUxT6z0iBKQh2pLOOY0n6Lc8FOmmb5Bktj5Nwp877g7oEAAACK\n",
       "AZ9tdEN/ABETFVh2SstWWkAHsQObNhirDnXPKimqdk5niD/BbLbs/YrwXEN6aeUoXZPadvNgQ+1h\n",
       "4/h41eNyNEitxMLnBM5JglvBVEWHaUmS6FtkOoW5zoTA1CDupOaMHoYMx5CB1lXJSzWanzRrHdVJ\n",
       "aRTfCsUJr0wBkgredPjt6aNxW2Qflz1hAAAAZQGfb2pDfwARSPhwTsNkoAE0Ox7WlgT77zCBkQ0n\n",
       "qm+KUOwVy6buXRP/jk09jg4ECkeSXpeYLk0ijAnRemovQrlIIV31Am8ZHiuDLoxBz0LbZN/Bjhtc\n",
       "nS7igswIc3csxcKgXDccAAAAhEGbckmoQWyZTBRMN//+p4QAMkIl0gBZXCTeysfyfNlFjH8OyqWW\n",
       "20e8jjXVdIHQ9PrtMPZz5/r1Y4W/Jj1c0deGN8vs2tqKxjQHk/bxrpMnVhw9ow+dpuSl53JOQqk/\n",
       "huC6nw+4hH32lbWK8/yQmSV8foV1p7PY0vTY9HDBRt2OMAA6YAAAAF0Bn5FqQ38AEdry/mUkgA7b\n",
       "sSLt3o66DUK48692AmKmCZt6uuaPE6w6mX8HA8SF/n3kK8on4zdG+cxtMbGvxbW1YRILqp/98UrA\n",
       "eybBb2m0mhmYjDsHiy8O3vfh7MEAAAWLbW9vdgAAAGxtdmhkAAAAAAAAAAAAAAAAAAAD6AAAF+gA\n",
       "AQAAAQAAAAAAAAAAAAAAAAEAAAAAAAAAAAAAAAAAAAABAAAAAAAAAAAAAAAAAABAAAAAAAAAAAAA\n",
       "AAAAAAAAAAAAAAAAAAAAAAAAAAAAAgAABLV0cmFrAAAAXHRraGQAAAADAAAAAAAAAAAAAAABAAAA\n",
       "AAAAF+gAAAAAAAAAAAAAAAAAAAAAAAEAAAAAAAAAAAAAAAAAAAABAAAAAAAAAAAAAAAAAABAAAAA\n",
       "AtAAAAFoAAAAAAAkZWR0cwAAABxlbHN0AAAAAAAAAAEAABfoAAAMAAABAAAAAAQtbWRpYQAAACBt\n",
       "ZGhkAAAAAAAAAAAAAAAAAAAyAAABMgBVxAAAAAAALWhkbHIAAAAAAAAAAHZpZGUAAAAAAAAAAAAA\n",
       "AABWaWRlb0hhbmRsZXIAAAAD2G1pbmYAAAAUdm1oZAAAAAEAAAAAAAAAAAAAACRkaW5mAAAAHGRy\n",
       "ZWYAAAAAAAAAAQAAAAx1cmwgAAAAAQAAA5hzdGJsAAAAtHN0c2QAAAAAAAAAAQAAAKRhdmMxAAAA\n",
       "AAAAAAEAAAAAAAAAAAAAAAAAAAAAAtABaABIAAAASAAAAAAAAAABAAAAAAAAAAAAAAAAAAAAAAAA\n",
       "AAAAAAAAAAAAAAAAAAAAGP//AAAAMmF2Y0MBZAAW/+EAGWdkABas2UC0L/lhAAADAAMAAAMAMg8W\n",
       "LZYBAAZo6+PLIsAAAAAcdXVpZGtoQPJfJE/FujmlG88DI/MAAAAAAAAAGHN0dHMAAAAAAAAAAQAA\n",
       "ADMAAAYAAAAAFHN0c3MAAAAAAAAAAQAAAAEAAAGgY3R0cwAAAAAAAAAyAAAAAQAADAAAAAABAAAe\n",
       "AAAAAAEAAAwAAAAAAQAAAAAAAAABAAAGAAAAAAEAAB4AAAAAAQAADAAAAAABAAAAAAAAAAEAAAYA\n",
       "AAAAAQAADAAAAAABAAAeAAAAAAEAAAwAAAAAAQAAAAAAAAABAAAGAAAAAAEAABIAAAAAAQAABgAA\n",
       "AAABAAASAAAAAAEAAAYAAAAAAQAAEgAAAAABAAAGAAAAAAEAABIAAAAAAQAABgAAAAABAAAeAAAA\n",
       "AAEAAAwAAAAAAQAAAAAAAAABAAAGAAAAAAEAAAwAAAAAAQAAHgAAAAABAAAMAAAAAAEAAAAAAAAA\n",
       "AQAABgAAAAABAAAMAAAAAAEAAB4AAAAAAQAADAAAAAABAAAAAAAAAAEAAAYAAAAAAQAAGAAAAAAC\n",
       "AAAGAAAAAAEAABIAAAAAAQAABgAAAAABAAAeAAAAAAEAAAwAAAAAAQAAAAAAAAABAAAGAAAAAAEA\n",
       "AB4AAAAAAQAADAAAAAABAAAAAAAAAAEAAAYAAAAAAQAAEgAAAAABAAAGAAAAABxzdHNjAAAAAAAA\n",
       "AAEAAAABAAAAMwAAAAEAAADgc3RzegAAAAAAAAAAAAAAMwAAFCcAAAOzAAAAqwAAAH8AAABzAAAE\n",
       "SQAAAMUAAACEAAAAkQAAAqwAAAWZAAAA2wAAALkAAADeAAADsQAAAIcAAAO/AAAAhwAAA5sAAACS\n",
       "AAADjgAAAHYAAAWkAAAA7gAAAKgAAAB8AAAB9QAABgcAAACtAAAAsAAAAJIAAAI3AAAFrgAAALcA\n",
       "AACxAAAAlgAABKsAAAChAAAApQAAA4cAAACYAAAEUQAAAMAAAACaAAAAkAAAAYYAAACTAAAAjgAA\n",
       "AGkAAACIAAAAYQAAABRzdGNvAAAAAAAAAAEAAAAsAAAAYnVkdGEAAABabWV0YQAAAAAAAAAhaGRs\n",
       "cgAAAAAAAAAAbWRpcmFwcGwAAAAAAAAAAAAAAAAtaWxzdAAAACWpdG9vAAAAHWRhdGEAAAABAAAA\n",
       "AExhdmY1OC4yOS4xMDA=\n",
       "\">\n",
       "  Your browser does not support the video tag.\n",
       "</video>"
      ],
      "text/plain": [
       "<matplotlib.animation.FuncAnimation at 0x7ff17ad33fa0>"
      ]
     },
     "execution_count": 14,
     "metadata": {},
     "output_type": "execute_result"
    }
   ],
   "source": [
    "anim"
   ]
  },
  {
   "cell_type": "code",
   "execution_count": null,
   "metadata": {},
   "outputs": [],
   "source": []
  }
 ],
 "metadata": {
  "kernelspec": {
   "display_name": "Python 3",
   "language": "python",
   "name": "python3"
  },
  "language_info": {
   "codemirror_mode": {
    "name": "ipython",
    "version": 3
   },
   "file_extension": ".py",
   "mimetype": "text/x-python",
   "name": "python",
   "nbconvert_exporter": "python",
   "pygments_lexer": "ipython3",
   "version": "3.8.5"
  }
 },
 "nbformat": 4,
 "nbformat_minor": 4
}
